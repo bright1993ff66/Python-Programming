{
 "cells": [
  {
   "cell_type": "markdown",
   "metadata": {},
   "source": [
    "# 1. abs()\n",
    "\n",
    "Return the absolute value of a number. The argument may be an **integer** or **a floating point number**. If the argument is a **complex number**, its magnitude is returned.\n",
    "\n",
    "Hence, three kinds of number can be used:\n",
    "\n",
    "1. integer\n",
    "2. floating point number\n",
    "3. complex number"
   ]
  },
  {
   "cell_type": "markdown",
   "metadata": {},
   "source": [
    "## 1.1 integer"
   ]
  },
  {
   "cell_type": "code",
   "execution_count": 1,
   "metadata": {},
   "outputs": [
    {
     "data": {
      "text/plain": [
       "5"
      ]
     },
     "execution_count": 1,
     "metadata": {},
     "output_type": "execute_result"
    }
   ],
   "source": [
    "a = 5\n",
    "abs(a)"
   ]
  },
  {
   "cell_type": "markdown",
   "metadata": {},
   "source": [
    "## 1.2 floating point number"
   ]
  },
  {
   "cell_type": "code",
   "execution_count": 2,
   "metadata": {},
   "outputs": [
    {
     "data": {
      "text/plain": [
       "5.25"
      ]
     },
     "execution_count": 2,
     "metadata": {},
     "output_type": "execute_result"
    }
   ],
   "source": [
    "a = 5.25\n",
    "abs(a)"
   ]
  },
  {
   "cell_type": "markdown",
   "metadata": {},
   "source": [
    "## 1.3 complex number"
   ]
  },
  {
   "cell_type": "code",
   "execution_count": 1,
   "metadata": {},
   "outputs": [
    {
     "name": "stdout",
     "output_type": "stream",
     "text": [
      "0.5\n",
      "0.6\n",
      "0.7810249675906654\n"
     ]
    }
   ],
   "source": [
    "a = 0.5+0.6j\n",
    "print(a.real)\n",
    "print(a.imag)\n",
    "print(abs(a)) # returns its magnitude"
   ]
  },
  {
   "cell_type": "markdown",
   "metadata": {},
   "source": [
    "# 2. all()\n",
    "\n",
    "Return True if all elements of the iterable are true (or if the iterable is empty). \n",
    "\n",
    "```Python\n",
    "def all(iterable):\n",
    "    for element in iterable:\n",
    "        if not element:\n",
    "            return False\n",
    "    return True\n",
    "```\n",
    "\n",
    "In the iterable, if the elements don't include **None, 0, false,''**, it returns True, else it returns False."
   ]
  },
  {
   "cell_type": "code",
   "execution_count": 2,
   "metadata": {},
   "outputs": [
    {
     "name": "stdout",
     "output_type": "stream",
     "text": [
      "False\n",
      "False\n",
      "False\n",
      "False\n"
     ]
    }
   ],
   "source": [
    "a1 = [1,2,'',4]\n",
    "a2 = [1,2,0,3]\n",
    "a3 = ['a','b',False,'d']\n",
    "a4 = [1,2,None]\n",
    "\n",
    "for lists in (a1,a2,a3,a4):\n",
    "    print(all(lists))"
   ]
  },
  {
   "cell_type": "code",
   "execution_count": 12,
   "metadata": {},
   "outputs": [
    {
     "name": "stdout",
     "output_type": "stream",
     "text": [
      "True\n",
      "True\n"
     ]
    }
   ],
   "source": [
    "a4 = [3,4,5,6]\n",
    "a5 = [4,'gas','pps',654]\n",
    "\n",
    "for lists in (a4,a5):\n",
    "    print(all(lists))"
   ]
  },
  {
   "cell_type": "markdown",
   "metadata": {},
   "source": [
    "# 3. any()\n",
    "\n",
    "Return True if any element of the iterable is true. If the iterable is empty, return False. Equivalent to:\n",
    "\n",
    "```Python\n",
    "def any(iterable):\n",
    "    for element in iterable:\n",
    "        if element:\n",
    "            return True\n",
    "    return False\n",
    "```\n",
    "\n",
    "In general, if one of the elements is not False, 0, None, it returns True, else it returns False."
   ]
  },
  {
   "cell_type": "code",
   "execution_count": 3,
   "metadata": {},
   "outputs": [
    {
     "name": "stdout",
     "output_type": "stream",
     "text": [
      "False\n",
      "False\n",
      "False\n",
      "False\n"
     ]
    }
   ],
   "source": [
    "a = [False,False,False]\n",
    "b = [0,0,0,0]\n",
    "c = [None,None,None]\n",
    "d = [\"\",\"\",\"\"]\n",
    "\n",
    "for lists in (a,b,c,d):\n",
    "    print(any(lists))"
   ]
  },
  {
   "cell_type": "code",
   "execution_count": 67,
   "metadata": {},
   "outputs": [
    {
     "name": "stdout",
     "output_type": "stream",
     "text": [
      "True\n",
      "True\n",
      "True\n"
     ]
    }
   ],
   "source": [
    "a = [1,2,None,4]\n",
    "b = [2,3,0,5]\n",
    "c = [\"\",'a',0]\n",
    "\n",
    "for lists in (a,b,c):\n",
    "    print(any(lists))"
   ]
  },
  {
   "cell_type": "markdown",
   "metadata": {},
   "source": [
    "# 4. ascii(object)\n",
    "\n",
    "As repr(), return a string containing a printable representation of an object, but **escape the non-ASCII characters** in the string returned by repr() using \\x, \\u or \\U escapes. This generates a string similar to that returned by repr() in Python 2.\n",
    "\n",
    "All the ASCII letters can be found here: [ASCII Letters](http://ascii.911cha.com/)"
   ]
  },
  {
   "cell_type": "code",
   "execution_count": 25,
   "metadata": {},
   "outputs": [
    {
     "name": "stdout",
     "output_type": "stream",
     "text": [
      "1\n",
      "'&'\n",
      "90000\n",
      "' '\n",
      "'^'\n"
     ]
    }
   ],
   "source": [
    "print(ascii(1)) # 返回的1是string\n",
    "print(ascii('&'))\n",
    "print(ascii(90000))\n",
    "print(ascii(' '))\n",
    "print(ascii('^'))"
   ]
  },
  {
   "cell_type": "code",
   "execution_count": 26,
   "metadata": {},
   "outputs": [
    {
     "name": "stdout",
     "output_type": "stream",
     "text": [
      "'\\u6211\\u559c\\u6b22'\n"
     ]
    }
   ],
   "source": [
    "print(ascii('我喜欢'))"
   ]
  },
  {
   "cell_type": "markdown",
   "metadata": {},
   "source": [
    "# 5. bin()\n",
    "\n",
    "Convert an integer number to a **binary string(二进制字符串)** prefixed with “0b”. The result is a valid Python expression. If x is not a Python int object, it has to define an __index__() method that returns an integer. "
   ]
  },
  {
   "cell_type": "code",
   "execution_count": 29,
   "metadata": {},
   "outputs": [
    {
     "data": {
      "text/plain": [
       "'0b11'"
      ]
     },
     "execution_count": 29,
     "metadata": {},
     "output_type": "execute_result"
    }
   ],
   "source": [
    "bin(3)"
   ]
  },
  {
   "cell_type": "code",
   "execution_count": 42,
   "metadata": {},
   "outputs": [
    {
     "data": {
      "text/plain": [
       "'0b11'"
      ]
     },
     "execution_count": 42,
     "metadata": {},
     "output_type": "execute_result"
    }
   ],
   "source": [
    "# If you still want the ob prefix, you can also use the format function:\n",
    "\n",
    "format(3,'#b')"
   ]
  },
  {
   "cell_type": "code",
   "execution_count": 4,
   "metadata": {},
   "outputs": [
    {
     "data": {
      "text/plain": [
       "11"
      ]
     },
     "execution_count": 4,
     "metadata": {},
     "output_type": "execute_result"
    }
   ],
   "source": [
    "# Convert decimal system 3 to its corresponding number in binary system\n",
    "\n",
    "int(bin(3)[2:])"
   ]
  },
  {
   "cell_type": "code",
   "execution_count": 6,
   "metadata": {},
   "outputs": [
    {
     "data": {
      "text/plain": [
       "11"
      ]
     },
     "execution_count": 6,
     "metadata": {},
     "output_type": "execute_result"
    }
   ],
   "source": [
    "# or you can use the format function\n",
    "\n",
    "int(format(3,'b'))"
   ]
  },
  {
   "cell_type": "markdown",
   "metadata": {},
   "source": [
    "# 6. class bool([x])\n",
    "\n",
    "Return a Boolean value, i.e. one of True or False. x is converted using the standard truth testing procedure. **If x is false or omitted**, this returns False; otherwise it returns True. **The bool class is a subclass of int** (see Numeric Types — int, float, complex). It cannot be subclassed further. Its only instances are False and True (see Boolean Values)."
   ]
  },
  {
   "cell_type": "code",
   "execution_count": 1,
   "metadata": {},
   "outputs": [
    {
     "name": "stdout",
     "output_type": "stream",
     "text": [
      "False False False False\n"
     ]
    }
   ],
   "source": [
    "result1 = bool(False)\n",
    "result2 = bool(None)\n",
    "result3 = bool(0)\n",
    "result4 = bool(\"\")\n",
    "\n",
    "print(result1,result2,result3,result4)"
   ]
  },
  {
   "cell_type": "code",
   "execution_count": 7,
   "metadata": {},
   "outputs": [
    {
     "data": {
      "text/plain": [
       "True"
      ]
     },
     "execution_count": 7,
     "metadata": {},
     "output_type": "execute_result"
    }
   ],
   "source": [
    "bool(3)"
   ]
  },
  {
   "cell_type": "markdown",
   "metadata": {
    "collapsed": true
   },
   "source": [
    "# 7. class bytearray([source[, encoding[, errors]]])\n",
    "\n",
    "Return **a new array of bytes**. The bytearray class is a mutable sequence of integers in the range 0 <= x < 256. It has most of the usual methods of mutable sequences, described in Mutable Sequence Types, as well as most methods that the bytes type has, see Bytes and Bytearray Operations.\n",
    "\n",
    "The optional source parameter can be used to initialize the array in a few different ways:\n",
    "\n",
    "- If it is a string, **you must also give the encoding (and optionally, errors) parameters**; bytearray() then converts the string to bytes using str.encode().\n",
    "- If it is an integer, the array will have that size and will be initialized with null bytes.\n",
    "- If it is an object conforming to the buffer interface, a read-only buffer of the object will be used to initialize the bytes array.\n",
    "- If it is an iterable, it must be an iterable of integers in the range 0 <= x < 256, which are used as the initial contents of the array.\n",
    "\n",
    "Without an argument, an array of size 0 is created.\n",
    "\n",
    "Detailed information about this function can be found here: [Python内置函数bytearray](http://www.cnblogs.com/sesshoumaru/p/5979159.html), [byte以及bytearray](http://www.cnblogs.com/cuchadanfan/p/5926069.html)"
   ]
  },
  {
   "cell_type": "markdown",
   "metadata": {},
   "source": [
    "Without an argument:"
   ]
  },
  {
   "cell_type": "code",
   "execution_count": 8,
   "metadata": {},
   "outputs": [
    {
     "name": "stdout",
     "output_type": "stream",
     "text": [
      "bytearray(b'')\n"
     ]
    },
    {
     "data": {
      "text/plain": [
       "0"
      ]
     },
     "execution_count": 8,
     "metadata": {},
     "output_type": "execute_result"
    }
   ],
   "source": [
    "b = bytearray()\n",
    "print(b)\n",
    "len(b)"
   ]
  },
  {
   "cell_type": "markdown",
   "metadata": {},
   "source": [
    "If it is a string:"
   ]
  },
  {
   "cell_type": "code",
   "execution_count": 9,
   "metadata": {},
   "outputs": [
    {
     "name": "stdout",
     "output_type": "stream",
     "text": [
      "Add encoding please\n"
     ]
    }
   ],
   "source": [
    "try:\n",
    "    bytearray('这个可以有')\n",
    "except TypeError:\n",
    "    print('Add encoding please')"
   ]
  },
  {
   "cell_type": "code",
   "execution_count": 10,
   "metadata": {},
   "outputs": [
    {
     "data": {
      "text/plain": [
       "bytearray(b'\\xe8\\xbf\\x99\\xe4\\xb8\\xaa\\xe5\\x8f\\xaf\\xe4\\xbb\\xa5\\xe6\\x9c\\x89')"
      ]
     },
     "execution_count": 10,
     "metadata": {},
     "output_type": "execute_result"
    }
   ],
   "source": [
    "bytearray('这个可以有',encoding = 'UTF-8')"
   ]
  },
  {
   "cell_type": "markdown",
   "metadata": {},
   "source": [
    "If it is an **positive** integer(返回这个整数所指定长度的空字节数组):"
   ]
  },
  {
   "cell_type": "code",
   "execution_count": 11,
   "metadata": {},
   "outputs": [
    {
     "data": {
      "text/plain": [
       "bytearray(b'\\x00\\x00')"
      ]
     },
     "execution_count": 11,
     "metadata": {},
     "output_type": "execute_result"
    }
   ],
   "source": [
    "bytearray(2)"
   ]
  },
  {
   "cell_type": "markdown",
   "metadata": {},
   "source": [
    "当source参数为实现了buffer接口的object对象时，那么将使用只读方式将字节读取到字节数组后返回"
   ]
  },
  {
   "cell_type": "markdown",
   "metadata": {},
   "source": [
    "当source参数是一个可迭代对象，那么这个迭代对象的元素都必须符合**0 <= x < 256**，以便可以初始化到数组里"
   ]
  },
  {
   "cell_type": "code",
   "execution_count": 12,
   "metadata": {},
   "outputs": [
    {
     "data": {
      "text/plain": [
       "bytearray(b'\\x01\\x02\\x03')"
      ]
     },
     "execution_count": 12,
     "metadata": {},
     "output_type": "execute_result"
    }
   ],
   "source": [
    "bytearray([1,2,3])"
   ]
  },
  {
   "cell_type": "markdown",
   "metadata": {},
   "source": [
    "byte这个概念是python3以后才引用的，以下是个最直观的例子"
   ]
  },
  {
   "cell_type": "code",
   "execution_count": 13,
   "metadata": {},
   "outputs": [
    {
     "data": {
      "text/plain": [
       "bytes"
      ]
     },
     "execution_count": 13,
     "metadata": {},
     "output_type": "execute_result"
    }
   ],
   "source": [
    "type(b'xxxx')"
   ]
  },
  {
   "cell_type": "code",
   "execution_count": 14,
   "metadata": {},
   "outputs": [
    {
     "data": {
      "text/plain": [
       "str"
      ]
     },
     "execution_count": 14,
     "metadata": {},
     "output_type": "execute_result"
    }
   ],
   "source": [
    "type('xxxx')"
   ]
  },
  {
   "cell_type": "markdown",
   "metadata": {},
   "source": [
    "byte和str的区别有：\n",
    "\n",
    "1. bytes是byte的序列，而str是unicode的序列。\n",
    "\n",
    "2. str 使用encode方法转化为 bytes\n",
    "\n",
    "3. bytes通过decode转化为str\n",
    "\n",
    "str转换成bytes"
   ]
  },
  {
   "cell_type": "code",
   "execution_count": 15,
   "metadata": {},
   "outputs": [
    {
     "data": {
      "text/plain": [
       "str"
      ]
     },
     "execution_count": 15,
     "metadata": {},
     "output_type": "execute_result"
    }
   ],
   "source": [
    "str1 = '我欲乘风归去,又恐琼楼玉宇，高处不胜寒！'\n",
    "type(str1)"
   ]
  },
  {
   "cell_type": "code",
   "execution_count": 16,
   "metadata": {},
   "outputs": [
    {
     "name": "stdout",
     "output_type": "stream",
     "text": [
      "b'\\xe6\\x88\\x91\\xe6\\xac\\xb2\\xe4\\xb9\\x98\\xe9\\xa3\\x8e\\xe5\\xbd\\x92\\xe5\\x8e\\xbb,\\xe5\\x8f\\x88\\xe6\\x81\\x90\\xe7\\x90\\xbc\\xe6\\xa5\\xbc\\xe7\\x8e\\x89\\xe5\\xae\\x87\\xef\\xbc\\x8c\\xe9\\xab\\x98\\xe5\\xa4\\x84\\xe4\\xb8\\x8d\\xe8\\x83\\x9c\\xe5\\xaf\\x92\\xef\\xbc\\x81'\n"
     ]
    },
    {
     "data": {
      "text/plain": [
       "bytes"
      ]
     },
     "execution_count": 16,
     "metadata": {},
     "output_type": "execute_result"
    }
   ],
   "source": [
    "b = str1.encode()\n",
    "print(b)\n",
    "type(b)"
   ]
  },
  {
   "cell_type": "markdown",
   "metadata": {},
   "source": [
    "byte转换成str"
   ]
  },
  {
   "cell_type": "code",
   "execution_count": 17,
   "metadata": {},
   "outputs": [
    {
     "data": {
      "text/plain": [
       "b'\\xe6\\x88\\x91\\xe6\\xac\\xb2\\xe4\\xb9\\x98\\xe9\\xa3\\x8e\\xe5\\xbd\\x92\\xe5\\x8e\\xbb,\\xe5\\x8f\\x88\\xe6\\x81\\x90\\xe7\\x90\\xbc\\xe6\\xa5\\xbc\\xe7\\x8e\\x89\\xe5\\xae\\x87\\xef\\xbc\\x8c\\xe9\\xab\\x98\\xe5\\xa4\\x84\\xe4\\xb8\\x8d\\xe8\\x83\\x9c\\xe5\\xaf\\x92\\xef\\xbc\\x81'"
      ]
     },
     "execution_count": 17,
     "metadata": {},
     "output_type": "execute_result"
    }
   ],
   "source": [
    "b"
   ]
  },
  {
   "cell_type": "code",
   "execution_count": 18,
   "metadata": {},
   "outputs": [
    {
     "data": {
      "text/plain": [
       "bytes"
      ]
     },
     "execution_count": 18,
     "metadata": {},
     "output_type": "execute_result"
    }
   ],
   "source": [
    "type(b)"
   ]
  },
  {
   "cell_type": "code",
   "execution_count": 19,
   "metadata": {},
   "outputs": [
    {
     "data": {
      "text/plain": [
       "'我欲乘风归去,又恐琼楼玉宇，高处不胜寒！'"
      ]
     },
     "execution_count": 19,
     "metadata": {},
     "output_type": "execute_result"
    }
   ],
   "source": [
    "b.decode()"
   ]
  },
  {
   "cell_type": "code",
   "execution_count": 20,
   "metadata": {},
   "outputs": [
    {
     "data": {
      "text/plain": [
       "str"
      ]
     },
     "execution_count": 20,
     "metadata": {},
     "output_type": "execute_result"
    }
   ],
   "source": [
    "type(b.decode())"
   ]
  },
  {
   "cell_type": "markdown",
   "metadata": {},
   "source": [
    "实际应用中在互联网上是通过二进制进行传输，所以就需要将str转换成bytes进行传输，而在接收中通过decode()解码成我们需要的编码进行处理数据这样不管对方是什么编码而本地是我们使用的编码这样就不会乱码。"
   ]
  },
  {
   "cell_type": "markdown",
   "metadata": {},
   "source": [
    "bytearray和byte不一样的点在于，**bytearray是可变的**"
   ]
  },
  {
   "cell_type": "code",
   "execution_count": 21,
   "metadata": {},
   "outputs": [
    {
     "data": {
      "text/plain": [
       "'我欲乘风归去,又恐琼楼玉宇，高处不胜寒！'"
      ]
     },
     "execution_count": 21,
     "metadata": {},
     "output_type": "execute_result"
    }
   ],
   "source": [
    "str1"
   ]
  },
  {
   "cell_type": "code",
   "execution_count": 22,
   "metadata": {},
   "outputs": [
    {
     "data": {
      "text/plain": [
       "bytearray(b'\\xe6\\x88\\x91\\xe6\\xac\\xb2\\xe4\\xb9\\x98\\xe9\\xa3\\x8e\\xe5\\xbd\\x92\\xe5\\x8e\\xbb,\\xe5\\x8f\\x88\\xe6\\x81\\x90\\xe7\\x90\\xbc\\xe6\\xa5\\xbc\\xe7\\x8e\\x89\\xe5\\xae\\x87\\xef\\xbc\\x8c\\xe9\\xab\\x98\\xe5\\xa4\\x84\\xe4\\xb8\\x8d\\xe8\\x83\\x9c\\xe5\\xaf\\x92\\xef\\xbc\\x81')"
      ]
     },
     "execution_count": 22,
     "metadata": {},
     "output_type": "execute_result"
    }
   ],
   "source": [
    "b1 = bytearray(str1.encode())\n",
    "b1"
   ]
  },
  {
   "cell_type": "code",
   "execution_count": 23,
   "metadata": {},
   "outputs": [
    {
     "data": {
      "text/plain": [
       "'我欲乘风归去,又恐琼楼玉宇，高处不胜寒！'"
      ]
     },
     "execution_count": 23,
     "metadata": {},
     "output_type": "execute_result"
    }
   ],
   "source": [
    "b1.decode()"
   ]
  },
  {
   "cell_type": "code",
   "execution_count": 24,
   "metadata": {},
   "outputs": [
    {
     "data": {
      "text/plain": [
       "bytearray(b'\\xe4\\xbd\\xa0\\xe6\\x83\\xb3\\xe4\\xb9\\x98\\xe9\\xa3\\x8e\\xe5\\xbd\\x92\\xe5\\x8e\\xbb,\\xe5\\x8f\\x88\\xe6\\x81\\x90\\xe7\\x90\\xbc\\xe6\\xa5\\xbc\\xe7\\x8e\\x89\\xe5\\xae\\x87\\xef\\xbc\\x8c\\xe9\\xab\\x98\\xe5\\xa4\\x84\\xe4\\xb8\\x8d\\xe8\\x83\\x9c\\xe5\\xaf\\x92\\xef\\xbc\\x81')"
      ]
     },
     "execution_count": 24,
     "metadata": {},
     "output_type": "execute_result"
    }
   ],
   "source": [
    "b1[:6]=bytearray('你想'.encode()) \n",
    "'''\n",
    "因为是UtF-8编码，通常一个汉字占3个字节，所以b1[:6]其实代表的就是前两个汉字“我欲”，在byte中你会发现str1转换成的bytes前6个byte为：\n",
    "\\xe6\\x88\\x91\\xe6\\xac\\xb2\n",
    "后来转变为：\n",
    "\\xe7\\x94\\x9f\\xe5\\x91\\xbd\n",
    "所以上面这行代码实现了前两个字的替换\n",
    "'''\n",
    "b1"
   ]
  },
  {
   "cell_type": "code",
   "execution_count": 25,
   "metadata": {},
   "outputs": [
    {
     "data": {
      "text/plain": [
       "'你想乘风归去,又恐琼楼玉宇，高处不胜寒！'"
      ]
     },
     "execution_count": 25,
     "metadata": {},
     "output_type": "execute_result"
    }
   ],
   "source": [
    "b1.decode()"
   ]
  },
  {
   "cell_type": "markdown",
   "metadata": {},
   "source": [
    "# 8. class bytes([source[, encoding[, errors]]])\n",
    "\n",
    "Return a new “bytes” object, which is an **immutable** sequence of integers in the range 0 <= x < 256. bytes is an immutable version of bytearray – it has the same non-mutating methods and the same indexing and slicing behavior.\n",
    "\n",
    "Accordingly, constructor arguments are interpreted as for bytearray()."
   ]
  },
  {
   "cell_type": "code",
   "execution_count": 70,
   "metadata": {},
   "outputs": [
    {
     "data": {
      "text/plain": [
       "b'\\xe5\\x93\\x88\\xe5\\x93\\x88'"
      ]
     },
     "execution_count": 70,
     "metadata": {},
     "output_type": "execute_result"
    }
   ],
   "source": [
    "str = '哈哈'\n",
    "\n",
    "bytes(str, encoding = 'UTF-8')"
   ]
  },
  {
   "cell_type": "code",
   "execution_count": 72,
   "metadata": {},
   "outputs": [
    {
     "data": {
      "text/plain": [
       "0"
      ]
     },
     "execution_count": 72,
     "metadata": {},
     "output_type": "execute_result"
    }
   ],
   "source": [
    "b = bytes()\n",
    "type(b)\n",
    "len(b)"
   ]
  },
  {
   "cell_type": "code",
   "execution_count": 76,
   "metadata": {},
   "outputs": [
    {
     "name": "stdout",
     "output_type": "stream",
     "text": [
      "bytes must be in range(0, 256)\n"
     ]
    }
   ],
   "source": [
    "try:\n",
    "    bytes([562,2,2])\n",
    "except ValueError:\n",
    "    print('bytes must be in range(0, 256)')"
   ]
  },
  {
   "cell_type": "markdown",
   "metadata": {},
   "source": [
    "The most significant difference between bytes and bytearray is that the values created by bytes can not be changed"
   ]
  },
  {
   "cell_type": "code",
   "execution_count": 77,
   "metadata": {},
   "outputs": [
    {
     "data": {
      "text/plain": [
       "b'\\x00\\x00\\x00\\x00\\x00\\x00\\x00\\x00\\x00\\x00'"
      ]
     },
     "execution_count": 77,
     "metadata": {},
     "output_type": "execute_result"
    }
   ],
   "source": [
    "b = bytes(10)\n",
    "b"
   ]
  },
  {
   "cell_type": "code",
   "execution_count": 82,
   "metadata": {},
   "outputs": [
    {
     "data": {
      "text/plain": [
       "0"
      ]
     },
     "execution_count": 82,
     "metadata": {},
     "output_type": "execute_result"
    }
   ],
   "source": [
    "b[9] # The number should be between 0 and 9(0 and 9 included), or python will output: 'index out of range'"
   ]
  },
  {
   "cell_type": "code",
   "execution_count": 84,
   "metadata": {},
   "outputs": [
    {
     "ename": "TypeError",
     "evalue": "'bytes' object does not support item assignment",
     "output_type": "error",
     "traceback": [
      "\u001b[1;31m---------------------------------------------------------------------------\u001b[0m",
      "\u001b[1;31mTypeError\u001b[0m                                 Traceback (most recent call last)",
      "\u001b[1;32m<ipython-input-84-2f5e46df79b7>\u001b[0m in \u001b[0;36m<module>\u001b[1;34m()\u001b[0m\n\u001b[1;32m----> 1\u001b[1;33m \u001b[0mb\u001b[0m\u001b[1;33m[\u001b[0m\u001b[1;36m1\u001b[0m\u001b[1;33m]\u001b[0m \u001b[1;33m=\u001b[0m \u001b[1;36m1\u001b[0m \u001b[1;31m# It can't be changed\u001b[0m\u001b[1;33m\u001b[0m\u001b[0m\n\u001b[0m",
      "\u001b[1;31mTypeError\u001b[0m: 'bytes' object does not support item assignment"
     ]
    }
   ],
   "source": [
    "b[1] = 1 # It can't be changed"
   ]
  },
  {
   "cell_type": "markdown",
   "metadata": {},
   "source": [
    "However, if you use bytearray, you could change"
   ]
  },
  {
   "cell_type": "code",
   "execution_count": 86,
   "metadata": {},
   "outputs": [
    {
     "data": {
      "text/plain": [
       "bytearray(b'\\x00\\x00\\x00\\x00\\x00\\x00\\x00\\x00\\x00\\x00')"
      ]
     },
     "execution_count": 86,
     "metadata": {},
     "output_type": "execute_result"
    }
   ],
   "source": [
    "b = bytearray(10)\n",
    "b"
   ]
  },
  {
   "cell_type": "code",
   "execution_count": 87,
   "metadata": {},
   "outputs": [
    {
     "data": {
      "text/plain": [
       "bytearray(b'\\x00\\x01\\x00\\x00\\x00\\x00\\x00\\x00\\x00\\x00')"
      ]
     },
     "execution_count": 87,
     "metadata": {},
     "output_type": "execute_result"
    }
   ],
   "source": [
    "b[1] = 1\n",
    "b"
   ]
  },
  {
   "cell_type": "markdown",
   "metadata": {
    "collapsed": true
   },
   "source": [
    "# 9. callable(object)\n",
    "\n",
    "Return True if the object argument appears callable, False if not. If this returns true, it is still possible that a call fails, but if it is false, calling object will never succeed. Note that **classes are callable (calling a class returns a new instance)**; **instances are callable if their class has a __call__() method**.\n",
    "\n",
    "可被调用(callable)指的是对象能否使用()括号的方法调用\n",
    "\n",
    "可调用对象，在实际调用也可能调用失败；但是不可调用对象，调用肯定不成功。"
   ]
  },
  {
   "cell_type": "code",
   "execution_count": 19,
   "metadata": {},
   "outputs": [
    {
     "name": "stdout",
     "output_type": "stream",
     "text": [
      "True\n",
      "True\n",
      "True\n",
      "\n",
      "True\n",
      "False\n",
      "\n",
      "False\n",
      "\n",
      "True\n",
      "False\n"
     ]
    }
   ],
   "source": [
    "# The built-in functions are all callable\n",
    "print(callable(bin))\n",
    "print(callable(bytearray))\n",
    "print(callable(callable))\n",
    "\n",
    "print()\n",
    "\n",
    "A = {'A':1,'B':2,'C':3}\n",
    "print(callable(A.keys)) # return True\n",
    "print(callable(A.keys())) # return False because A.keys() returns a list\n",
    "\n",
    "print()\n",
    "\n",
    "print(callable(1))\n",
    "\n",
    "print()\n",
    "\n",
    "class A(object):\n",
    "    pass\n",
    "print(callable(A)) # return True because the class is always callable\n",
    "a = A()\n",
    "print(callable(a)) # return False because this instance a doesn't have a call method"
   ]
  },
  {
   "cell_type": "code",
   "execution_count": 30,
   "metadata": {},
   "outputs": [
    {
     "name": "stdout",
     "output_type": "stream",
     "text": [
      "True\n",
      "True\n"
     ]
    }
   ],
   "source": [
    "class B(object):\n",
    "    def __call__(self):\n",
    "        print(\"It's so great to hear from you!\")\n",
    "        \n",
    "print(callable(B)) # return True\n",
    "b = B()\n",
    "print(callable(b)) # return True because instance b has a method __call__"
   ]
  },
  {
   "cell_type": "markdown",
   "metadata": {},
   "source": [
    "# 10. chr(i)\n",
    "\n",
    "Return the string representing a character whose Unicode code point is the integer i. For example, chr(97) returns the string 'a', while chr(8364) returns the string '€'. This is the inverse of ord().\n",
    "\n",
    "The valid range for the argument is from 0 through 1,114,111 (0x10FFFF in base 16). ValueError will be raised if i is outside that range."
   ]
  },
  {
   "cell_type": "code",
   "execution_count": 36,
   "metadata": {},
   "outputs": [
    {
     "name": "stdout",
     "output_type": "stream",
     "text": [
      "a\n",
      "€\n"
     ]
    }
   ],
   "source": [
    "print(chr(97))\n",
    "print(chr(8364))"
   ]
  },
  {
   "cell_type": "code",
   "execution_count": 37,
   "metadata": {},
   "outputs": [
    {
     "name": "stdout",
     "output_type": "stream",
     "text": [
      "97\n"
     ]
    }
   ],
   "source": [
    "print(ord('a'))"
   ]
  },
  {
   "cell_type": "code",
   "execution_count": 27,
   "metadata": {},
   "outputs": [
    {
     "data": {
      "text/plain": [
       "str"
      ]
     },
     "execution_count": 27,
     "metadata": {},
     "output_type": "execute_result"
    }
   ],
   "source": [
    "type(chr(97))"
   ]
  },
  {
   "cell_type": "code",
   "execution_count": 29,
   "metadata": {},
   "outputs": [
    {
     "name": "stdout",
     "output_type": "stream",
     "text": [
      "Only integer is required, not other types\n"
     ]
    }
   ],
   "source": [
    "try:\n",
    "    chr('97')\n",
    "except TypeError:\n",
    "    print('Only integer is required, not other types')"
   ]
  },
  {
   "cell_type": "code",
   "execution_count": 40,
   "metadata": {},
   "outputs": [
    {
     "name": "stdout",
     "output_type": "stream",
     "text": [
      "Not in the appropriate range\n"
     ]
    }
   ],
   "source": [
    "try:\n",
    "    chr(-1) # index out of range: (0-110000)\n",
    "except ValueError:\n",
    "    print('Not in the appropriate range')"
   ]
  },
  {
   "cell_type": "markdown",
   "metadata": {},
   "source": [
    "# 11. classmethod(function)\n",
    "\n",
    "Return a class method for function.\n",
    "\n",
    "A class method receives the class as implicit first argument, just like an instance method receives the instance. To declare a class method, use this idiom:\n",
    "\n",
    "```Python\n",
    "class C:\n",
    "    @classmethod\n",
    "    def f(cls, arg1, arg2, ...): ...\n",
    "```\n",
    "\n",
    "The @classmethod form is a function decorator – see the description of function definitions in Function definitions for details.\n",
    "\n",
    "It can be called either on the class (such as C.f()) or on an instance (such as C().f()). The instance is ignored except for its class. If a class method is called for a derived class, the derived class object is passed as the implied first argument.\n",
    "\n",
    "Class methods are different than C++ or Java static methods. If you want those, see staticmethod() in this section.\n",
    "\n",
    "说明：\n",
    "\n",
    "　　1. classmethod 是一个装饰器函数，用来标示一个方法为类方法\n",
    "\n",
    "　　2. 类方法的第一个参数是类对象参数，在方法被调用的时候自动将类对象传入，**参数名称约定为cls**\n",
    "\n",
    "　　3. 如果一个方法被标示为类方法，则该方法可被类对象调用(如 C.f())，也可以被类的实例对象调用(如 C().f())\n",
    "  \n",
    "具体可参考：[classmethod](http://www.cnblogs.com/sesshoumaru/p/5985100.html)"
   ]
  },
  {
   "cell_type": "code",
   "execution_count": 42,
   "metadata": {},
   "outputs": [
    {
     "name": "stdout",
     "output_type": "stream",
     "text": [
      "<class '__main__.C'>\n",
      "类对象调用类方法\n"
     ]
    }
   ],
   "source": [
    "class C:\n",
    "    @classmethod\n",
    "    def f(cls,arg1):\n",
    "        print(cls)\n",
    "        print(arg1)\n",
    "        \n",
    "C.f('类对象调用类方法')"
   ]
  },
  {
   "cell_type": "code",
   "execution_count": 43,
   "metadata": {},
   "outputs": [
    {
     "name": "stdout",
     "output_type": "stream",
     "text": [
      "<class '__main__.C'>\n",
      "类实例对象调用类方法\n"
     ]
    }
   ],
   "source": [
    "c = C()\n",
    "c.f('类实例对象调用类方法')"
   ]
  },
  {
   "cell_type": "code",
   "execution_count": 44,
   "metadata": {},
   "outputs": [
    {
     "name": "stdout",
     "output_type": "stream",
     "text": [
      "<class '__main__.D'>\n",
      "子类的类实例对象调用类方法\n",
      "<class '__main__.D'>\n",
      "子类对象调用类方法\n"
     ]
    }
   ],
   "source": [
    "class D(C):\n",
    "    pass\n",
    "\n",
    "d = D()\n",
    "d.f('子类的类实例对象调用类方法')\n",
    "\n",
    "D.f('子类对象调用类方法')"
   ]
  },
  {
   "cell_type": "code",
   "execution_count": 51,
   "metadata": {},
   "outputs": [
    {
     "data": {
      "text/plain": [
       "17"
      ]
     },
     "execution_count": 51,
     "metadata": {},
     "output_type": "execute_result"
    }
   ],
   "source": [
    "class animals(object):\n",
    "    def __init__(self, height, width):\n",
    "        self.height = height\n",
    "        self.width = width\n",
    "        \n",
    "    @classmethod\n",
    "    def f(cls, arg1):\n",
    "        return arg1\n",
    "        \n",
    "    def addall(self, arg2):\n",
    "        result = arg2 + self.height + self.width\n",
    "        return result\n",
    "\n",
    "    \n",
    "class B(animals):\n",
    "    pass\n",
    "\n",
    "a = animals(5,3)\n",
    "a.addall(5) + a.f(4)"
   ]
  },
  {
   "cell_type": "markdown",
   "metadata": {},
   "source": [
    "# 12. compile(source, filename, mode, flags=0, dont_inherit=False, optimize=-1)\n",
    "\n",
    "Compile the source into a code or AST object. Code objects can be executed by **exec()** or **eval()**. source can either be **a normal string**, **a byte string**, or **an AST object**. Refer to the [ast](https://docs.python.org/3/library/ast.html#module-ast) module documentation for information on how to work with AST(Abstract Syntax Trees) objects.\n",
    "\n",
    "The filename argument should give the file from which the code was read; pass some recognizable value if it wasn’t read from a file ('<string>' is commonly used).\n",
    "\n",
    "The mode argument specifies what kind of code must be compiled; it can be 'exec' if source consists of a sequence of statements, 'eval' if it consists of a single expression, or 'single' if it consists of a single interactive statement (in the latter case, expression statements that evaluate to something other than None will be printed).\n",
    "\n",
    "The optional arguments flags and dont_inherit control which future statements (see PEP 236) affect the compilation of source. If neither is present (or both are zero) the code is compiled with those future statements that are in effect in the code that is calling compile(). If the flags argument is given and dont_inherit is not (or is zero) then the future statements specified by the flags argument are used in addition to those that would be used anyway. If dont_inherit is a non-zero integer then the flags argument is it – the future statements in effect around the call to compile are ignored.\n",
    "\n",
    "Future statements are specified by bits which can be bitwise ORed together to specify multiple statements. The bitfield required to specify a given feature can be found as the compiler_flag attribute on the _Feature instance in the __future__ module.\n",
    "\n",
    "The argument optimize specifies the optimization level of the compiler; the default value of -1 selects the optimization level of the interpreter as given by -O options. Explicit levels are 0 (no optimization; __debug__ is true), 1 (asserts are removed, __debug__ is false) or 2 (docstrings are removed too).\n",
    "\n",
    "This function raises SyntaxError if the compiled source is invalid, and ValueError if the source contains null bytes.\n",
    "If you want to parse Python code into its AST representation, see ast.parse().\n",
    "\n",
    "Note: When compiling a string with multi-line code in 'single' or 'eval' mode, input must be terminated by at least one newline character. This is to facilitate detection of incomplete and complete statements in the code module.\n",
    "\n",
    "Changed in version 3.2: Allowed use of Windows and Mac newlines. Also input in 'exec' mode does not have to end in a newline anymore. Added the optimize parameter.\n",
    "\n",
    "Changed in version 3.5: Previously, TypeError was raised when null bytes were encountered in source.\n",
    "\n",
    "说明：\n",
    "\n",
    "1. 将source编译为代码或者AST对象。代码对象能够通过exec语句来执行或者eval()进行求值。\n",
    "2. 参数source：字符串或者AST（Abstract Syntax Trees）对象。即需要动态执行的代码段。\n",
    "3. 参数 filename：代码文件名称，如果不是从文件读取代码则传递一些可辨认的值。当传入了source参数时，filename参数传入空字符即可。\n",
    "4. 参数mode：指定编译代码的种类，可以指定为 ‘exec’,’eval’,’single’。当source中包含**流程语句**时，mode应指定为‘exec’；当source中只包含一个**简单的求值表达式**，mode应指定为‘eval’；当source中包含了**交互式命令语句**，mode应指定为'single'。"
   ]
  },
  {
   "cell_type": "code",
   "execution_count": 52,
   "metadata": {},
   "outputs": [
    {
     "name": "stdout",
     "output_type": "stream",
     "text": [
      "0\n",
      "1\n",
      "2\n",
      "3\n",
      "4\n",
      "5\n",
      "6\n",
      "7\n",
      "8\n",
      "9\n"
     ]
    }
   ],
   "source": [
    "# 流程语句使用exec()\n",
    "\n",
    "code1 = 'for i in range(0,10): print(i)'\n",
    "compile1 = compile(source = code1, filename = '', mode = 'exec')\n",
    "exec(compile1)"
   ]
  },
  {
   "cell_type": "code",
   "execution_count": 53,
   "metadata": {},
   "outputs": [
    {
     "data": {
      "text/plain": [
       "15"
      ]
     },
     "execution_count": 53,
     "metadata": {},
     "output_type": "execute_result"
    }
   ],
   "source": [
    "# 简单求值表达式用eval()\n",
    "code2 = '1 + 2 + 3 + 4 + 5'\n",
    "compile2 = compile(source = code2, filename = '', mode = 'eval')\n",
    "eval(compile2)"
   ]
  },
  {
   "cell_type": "code",
   "execution_count": 10,
   "metadata": {},
   "outputs": [
    {
     "name": "stdout",
     "output_type": "stream",
     "text": [
      "Please input your name:Bright Chang\n",
      "Bright Chang\n"
     ]
    }
   ],
   "source": [
    "# 交互语句用single()\n",
    "code3 = \"name = input('Please input your name:')\"\n",
    "compile3 = compile(source = code3, filename = '', mode = 'single')\n",
    "exec(compile3)\n",
    "print(name)"
   ]
  },
  {
   "cell_type": "markdown",
   "metadata": {},
   "source": [
    "# 13. class complex([real[, imag]])\n",
    "\n",
    "Return a complex number with the value real + imag\\*1j or convert **a string or number** to a complex number. If the first parameter is a string, it will be interpreted as a complex number and the function must be called without a second parameter. The second parameter can never be a string. Each argument may be any numeric type (including complex). If imag is omitted, it defaults to zero and the constructor serves as a numeric conversion like int and float. If both arguments are omitted, returns 0j.\n",
    "\n",
    "**Note** When converting from a string, the string must not contain whitespace around the central + or - operator. For example, complex('1+2j') is fine, but complex('1 + 2j') raises ValueError."
   ]
  },
  {
   "cell_type": "code",
   "execution_count": 9,
   "metadata": {},
   "outputs": [
    {
     "data": {
      "text/plain": [
       "(5+0j)"
      ]
     },
     "execution_count": 9,
     "metadata": {},
     "output_type": "execute_result"
    }
   ],
   "source": [
    "complex(5)"
   ]
  },
  {
   "cell_type": "code",
   "execution_count": 12,
   "metadata": {},
   "outputs": [
    {
     "data": {
      "text/plain": [
       "(5+2j)"
      ]
     },
     "execution_count": 12,
     "metadata": {},
     "output_type": "execute_result"
    }
   ],
   "source": [
    "complex(5 + 2j)"
   ]
  },
  {
   "cell_type": "code",
   "execution_count": 13,
   "metadata": {},
   "outputs": [
    {
     "data": {
      "text/plain": [
       "(5+1j)"
      ]
     },
     "execution_count": 13,
     "metadata": {},
     "output_type": "execute_result"
    }
   ],
   "source": [
    "complex('5+1j')"
   ]
  },
  {
   "cell_type": "code",
   "execution_count": 18,
   "metadata": {},
   "outputs": [
    {
     "ename": "ValueError",
     "evalue": "complex() arg is a malformed string",
     "output_type": "error",
     "traceback": [
      "\u001b[1;31m---------------------------------------------------------------------------\u001b[0m",
      "\u001b[1;31mValueError\u001b[0m                                Traceback (most recent call last)",
      "\u001b[1;32m<ipython-input-18-c387ce310bf7>\u001b[0m in \u001b[0;36m<module>\u001b[1;34m()\u001b[0m\n\u001b[1;32m----> 1\u001b[1;33m \u001b[0mcomplex\u001b[0m\u001b[1;33m(\u001b[0m\u001b[1;34m'5 + 1j'\u001b[0m\u001b[1;33m)\u001b[0m\u001b[1;33m\u001b[0m\u001b[0m\n\u001b[0m",
      "\u001b[1;31mValueError\u001b[0m: complex() arg is a malformed string"
     ]
    }
   ],
   "source": [
    "complex('5 + 1j')"
   ]
  },
  {
   "cell_type": "code",
   "execution_count": 15,
   "metadata": {},
   "outputs": [
    {
     "data": {
      "text/plain": [
       "(2.1-3.2j)"
      ]
     },
     "execution_count": 15,
     "metadata": {},
     "output_type": "execute_result"
    }
   ],
   "source": [
    "complex(2.1,-3.2)"
   ]
  },
  {
   "cell_type": "code",
   "execution_count": 16,
   "metadata": {},
   "outputs": [
    {
     "data": {
      "text/plain": [
       "(1+4j)"
      ]
     },
     "execution_count": 16,
     "metadata": {},
     "output_type": "execute_result"
    }
   ],
   "source": [
    "complex(1+2j,2)"
   ]
  },
  {
   "cell_type": "code",
   "execution_count": 17,
   "metadata": {},
   "outputs": [
    {
     "ename": "TypeError",
     "evalue": "complex() can't take second arg if first is a string",
     "output_type": "error",
     "traceback": [
      "\u001b[1;31m---------------------------------------------------------------------------\u001b[0m",
      "\u001b[1;31mTypeError\u001b[0m                                 Traceback (most recent call last)",
      "\u001b[1;32m<ipython-input-17-d85d8e73875e>\u001b[0m in \u001b[0;36m<module>\u001b[1;34m()\u001b[0m\n\u001b[1;32m----> 1\u001b[1;33m \u001b[0mcomplex\u001b[0m\u001b[1;33m(\u001b[0m\u001b[1;34m'1+3j'\u001b[0m\u001b[1;33m,\u001b[0m\u001b[1;36m3\u001b[0m\u001b[1;33m)\u001b[0m\u001b[1;33m\u001b[0m\u001b[0m\n\u001b[0m",
      "\u001b[1;31mTypeError\u001b[0m: complex() can't take second arg if first is a string"
     ]
    }
   ],
   "source": [
    "complex('1+3j',3)"
   ]
  },
  {
   "cell_type": "markdown",
   "metadata": {
    "collapsed": true
   },
   "source": [
    "# 14. delattr(object, name)\n",
    "\n",
    "This is a relative of setattr(). The arguments are **an object and a string**. The string must be **the name of one of the object’s attributes**. The function deletes the named attribute, provided the object allows it. For example, delattr(x, 'foobar') is equivalent to del x.foobar.\n",
    "\n",
    "```Python\n",
    "class dict(**kwarg)\n",
    "class dict(mapping, **kwarg)\n",
    "class dict(iterable, **kwarg)\n",
    "```\n",
    "\n",
    "Create a new dictionary. The dict object is the dictionary class. See dict and Mapping Types — dict for documentation about this class.\n",
    "\n",
    "For other containers see the built-in list, set, and tuple classes, as well as the collections module."
   ]
  },
  {
   "cell_type": "code",
   "execution_count": 15,
   "metadata": {},
   "outputs": [
    {
     "name": "stdout",
     "output_type": "stream",
     "text": [
      "8\n",
      "16\n"
     ]
    }
   ],
   "source": [
    "class great(object):\n",
    "    def __init__(self, value1, value2):\n",
    "        self.value1 = value1\n",
    "        self.value2 = value2\n",
    "        \n",
    "    def add(self, another):\n",
    "        result = self.value1 + another\n",
    "        return result\n",
    "    \n",
    "    def mul(self, another):\n",
    "        result = self.value2 * another\n",
    "        return result    \n",
    "    \n",
    "great1 = great(5,4)\n",
    "print(great1.add(3))\n",
    "print(great1.mul(4))"
   ]
  },
  {
   "cell_type": "code",
   "execution_count": 17,
   "metadata": {},
   "outputs": [
    {
     "name": "stdout",
     "output_type": "stream",
     "text": [
      "8\n",
      "Attribute error occurred\n"
     ]
    }
   ],
   "source": [
    "delattr(great1, 'value2')\n",
    "try:\n",
    "    print(great1.add(3))\n",
    "    print(great1.mul(4))\n",
    "except AttributeError:\n",
    "    print('Attribute error occurred')"
   ]
  },
  {
   "cell_type": "markdown",
   "metadata": {},
   "source": [
    "Notice: the delattr() cannot delete a method in a class object"
   ]
  },
  {
   "cell_type": "code",
   "execution_count": 18,
   "metadata": {},
   "outputs": [
    {
     "ename": "AttributeError",
     "evalue": "mul",
     "output_type": "error",
     "traceback": [
      "\u001b[1;31m---------------------------------------------------------------------------\u001b[0m",
      "\u001b[1;31mAttributeError\u001b[0m                            Traceback (most recent call last)",
      "\u001b[1;32m<ipython-input-18-0643f7fb62ab>\u001b[0m in \u001b[0;36m<module>\u001b[1;34m()\u001b[0m\n\u001b[1;32m----> 1\u001b[1;33m \u001b[0mdelattr\u001b[0m\u001b[1;33m(\u001b[0m\u001b[0mgreat1\u001b[0m\u001b[1;33m,\u001b[0m\u001b[1;34m'mul'\u001b[0m\u001b[1;33m)\u001b[0m\u001b[1;33m\u001b[0m\u001b[0m\n\u001b[0m",
      "\u001b[1;31mAttributeError\u001b[0m: mul"
     ]
    }
   ],
   "source": [
    "delattr(great1,'mul')"
   ]
  },
  {
   "cell_type": "markdown",
   "metadata": {},
   "source": [
    "# 15. dir([object])\n",
    "\n",
    "Without arguments, return the list of names in the current local scope. With an argument, attempt to return a list of valid attributes for that object.\n",
    "\n",
    "If the object has a method named \\__dir\\__(), this method will be called and must return the list of attributes. This allows objects that implement a custom \\__getattr\\__() or \\__getattribute\\__() function to customize the way dir() reports their attributes.\n",
    "\n",
    "If the object does not provide \\__dir\\__(), the function tries its best to gather information from the object’s \\__dict\\__ attribute, if defined, and from its type object. The resulting list is not necessarily complete, and may be inaccurate when the object has a custom \\__getattr\\__().\n",
    "\n",
    "The default dir() mechanism behaves differently with different types of objects, as it attempts to produce the most relevant, rather than complete, information:\n",
    "\n",
    "- If the object is a module object, the list contains the names of the module’s attributes.\n",
    "- If the object is a type or class object, the list contains the names of its attributes, and recursively of the attributes of its bases.\n",
    "- Otherwise, the list contains the object’s attributes’ names, the names of its class’s attributes, and recursively of the attributes of its class’s base classes.\n",
    "\n",
    "The resulting list is sorted alphabetically."
   ]
  },
  {
   "cell_type": "markdown",
   "metadata": {},
   "source": [
    "当不传参数时，返回当前作用域内的变量、方法和定义的类型列表。"
   ]
  },
  {
   "cell_type": "code",
   "execution_count": 26,
   "metadata": {},
   "outputs": [
    {
     "data": {
      "text/plain": [
       "['In',\n",
       " 'Out',\n",
       " 'Shape',\n",
       " '_',\n",
       " '_13',\n",
       " '_14',\n",
       " '_19',\n",
       " '_20',\n",
       " '_23',\n",
       " '_24',\n",
       " '_4',\n",
       " '_6',\n",
       " '__',\n",
       " '___',\n",
       " '__builtin__',\n",
       " '__builtins__',\n",
       " '__doc__',\n",
       " '__loader__',\n",
       " '__name__',\n",
       " '__package__',\n",
       " '__spec__',\n",
       " '_dh',\n",
       " '_i',\n",
       " '_i1',\n",
       " '_i10',\n",
       " '_i11',\n",
       " '_i12',\n",
       " '_i13',\n",
       " '_i14',\n",
       " '_i15',\n",
       " '_i16',\n",
       " '_i17',\n",
       " '_i18',\n",
       " '_i19',\n",
       " '_i2',\n",
       " '_i20',\n",
       " '_i21',\n",
       " '_i22',\n",
       " '_i23',\n",
       " '_i24',\n",
       " '_i25',\n",
       " '_i26',\n",
       " '_i3',\n",
       " '_i4',\n",
       " '_i5',\n",
       " '_i6',\n",
       " '_i7',\n",
       " '_i8',\n",
       " '_i9',\n",
       " '_ih',\n",
       " '_ii',\n",
       " '_iii',\n",
       " '_oh',\n",
       " 'exit',\n",
       " 'get_ipython',\n",
       " 'great',\n",
       " 'great1',\n",
       " 'quit',\n",
       " 's',\n",
       " 'struct']"
      ]
     },
     "execution_count": 26,
     "metadata": {},
     "output_type": "execute_result"
    }
   ],
   "source": [
    "dir()"
   ]
  },
  {
   "cell_type": "code",
   "execution_count": 27,
   "metadata": {},
   "outputs": [
    {
     "data": {
      "text/plain": [
       "['In',\n",
       " 'Out',\n",
       " 'Shape',\n",
       " '_',\n",
       " '_13',\n",
       " '_14',\n",
       " '_19',\n",
       " '_20',\n",
       " '_23',\n",
       " '_24',\n",
       " '_26',\n",
       " '_4',\n",
       " '_6',\n",
       " '__',\n",
       " '___',\n",
       " '__builtin__',\n",
       " '__builtins__',\n",
       " '__doc__',\n",
       " '__loader__',\n",
       " '__name__',\n",
       " '__package__',\n",
       " '__spec__',\n",
       " '_dh',\n",
       " '_i',\n",
       " '_i1',\n",
       " '_i10',\n",
       " '_i11',\n",
       " '_i12',\n",
       " '_i13',\n",
       " '_i14',\n",
       " '_i15',\n",
       " '_i16',\n",
       " '_i17',\n",
       " '_i18',\n",
       " '_i19',\n",
       " '_i2',\n",
       " '_i20',\n",
       " '_i21',\n",
       " '_i22',\n",
       " '_i23',\n",
       " '_i24',\n",
       " '_i25',\n",
       " '_i26',\n",
       " '_i27',\n",
       " '_i3',\n",
       " '_i4',\n",
       " '_i5',\n",
       " '_i6',\n",
       " '_i7',\n",
       " '_i8',\n",
       " '_i9',\n",
       " '_ih',\n",
       " '_ii',\n",
       " '_iii',\n",
       " '_oh',\n",
       " 'a',\n",
       " 'exit',\n",
       " 'get_ipython',\n",
       " 'great',\n",
       " 'great1',\n",
       " 'quit',\n",
       " 's',\n",
       " 'struct']"
      ]
     },
     "execution_count": 27,
     "metadata": {},
     "output_type": "execute_result"
    }
   ],
   "source": [
    "a = 100\n",
    "dir() # 多了一个a"
   ]
  },
  {
   "cell_type": "markdown",
   "metadata": {},
   "source": [
    "当参数对象是模块时，返回模块的属性、方法列表。"
   ]
  },
  {
   "cell_type": "code",
   "execution_count": 28,
   "metadata": {},
   "outputs": [
    {
     "data": {
      "text/plain": [
       "<module 'math' (built-in)>"
      ]
     },
     "execution_count": 28,
     "metadata": {},
     "output_type": "execute_result"
    }
   ],
   "source": [
    "import math\n",
    "math"
   ]
  },
  {
   "cell_type": "code",
   "execution_count": 29,
   "metadata": {},
   "outputs": [
    {
     "data": {
      "text/plain": [
       "['__doc__',\n",
       " '__loader__',\n",
       " '__name__',\n",
       " '__package__',\n",
       " '__spec__',\n",
       " 'acos',\n",
       " 'acosh',\n",
       " 'asin',\n",
       " 'asinh',\n",
       " 'atan',\n",
       " 'atan2',\n",
       " 'atanh',\n",
       " 'ceil',\n",
       " 'copysign',\n",
       " 'cos',\n",
       " 'cosh',\n",
       " 'degrees',\n",
       " 'e',\n",
       " 'erf',\n",
       " 'erfc',\n",
       " 'exp',\n",
       " 'expm1',\n",
       " 'fabs',\n",
       " 'factorial',\n",
       " 'floor',\n",
       " 'fmod',\n",
       " 'frexp',\n",
       " 'fsum',\n",
       " 'gamma',\n",
       " 'gcd',\n",
       " 'hypot',\n",
       " 'inf',\n",
       " 'isclose',\n",
       " 'isfinite',\n",
       " 'isinf',\n",
       " 'isnan',\n",
       " 'ldexp',\n",
       " 'lgamma',\n",
       " 'log',\n",
       " 'log10',\n",
       " 'log1p',\n",
       " 'log2',\n",
       " 'modf',\n",
       " 'nan',\n",
       " 'pi',\n",
       " 'pow',\n",
       " 'radians',\n",
       " 'sin',\n",
       " 'sinh',\n",
       " 'sqrt',\n",
       " 'tan',\n",
       " 'tanh',\n",
       " 'trunc']"
      ]
     },
     "execution_count": 29,
     "metadata": {},
     "output_type": "execute_result"
    }
   ],
   "source": [
    "dir(math)"
   ]
  },
  {
   "cell_type": "markdown",
   "metadata": {},
   "source": [
    "当参数对象是类时，返回类及其子类的属性、方法列表。"
   ]
  },
  {
   "cell_type": "code",
   "execution_count": 36,
   "metadata": {},
   "outputs": [
    {
     "name": "stdout",
     "output_type": "stream",
     "text": [
      "True\n"
     ]
    },
    {
     "data": {
      "text/plain": [
       "['__class__',\n",
       " '__delattr__',\n",
       " '__dict__',\n",
       " '__dir__',\n",
       " '__doc__',\n",
       " '__eq__',\n",
       " '__format__',\n",
       " '__ge__',\n",
       " '__getattribute__',\n",
       " '__gt__',\n",
       " '__hash__',\n",
       " '__init__',\n",
       " '__le__',\n",
       " '__lt__',\n",
       " '__module__',\n",
       " '__ne__',\n",
       " '__new__',\n",
       " '__reduce__',\n",
       " '__reduce_ex__',\n",
       " '__repr__',\n",
       " '__setattr__',\n",
       " '__sizeof__',\n",
       " '__str__',\n",
       " '__subclasshook__',\n",
       " '__weakref__',\n",
       " 'name']"
      ]
     },
     "execution_count": 36,
     "metadata": {},
     "output_type": "execute_result"
    }
   ],
   "source": [
    "class A:\n",
    "    name = 'class'\n",
    "    \n",
    "a = A()\n",
    "print('name' in dir(a))\n",
    "dir(a)"
   ]
  },
  {
   "cell_type": "markdown",
   "metadata": {},
   "source": [
    "当对象定义了\\__dir\\__方法，则返回\\__dir\\__方法的结果"
   ]
  },
  {
   "cell_type": "code",
   "execution_count": 37,
   "metadata": {},
   "outputs": [
    {
     "data": {
      "text/plain": [
       "['age', 'name']"
      ]
     },
     "execution_count": 37,
     "metadata": {},
     "output_type": "execute_result"
    }
   ],
   "source": [
    "class B:\n",
    "    def __dir__(self):\n",
    "        return ['name','age']\n",
    "    \n",
    "b = B()\n",
    "dir(b)"
   ]
  },
  {
   "cell_type": "code",
   "execution_count": 1,
   "metadata": {},
   "outputs": [
    {
     "data": {
      "text/plain": [
       "[0, 4]"
      ]
     },
     "execution_count": 1,
     "metadata": {},
     "output_type": "execute_result"
    }
   ],
   "source": [
    "class C:\n",
    "    def __dir__(self):\n",
    "        result = divmod(4,8)\n",
    "        return result\n",
    "    \n",
    "c = C()\n",
    "dir(c)"
   ]
  },
  {
   "cell_type": "markdown",
   "metadata": {},
   "source": [
    "# 16. divmod(a, b)\n",
    "\n",
    "Take two (non complex) numbers as arguments and return a pair of numbers(**a tuple**) consisting of their **quotient and remainder** when using integer division. With mixed operand types, the rules for binary arithmetic operators apply. For integers, the result is the same as (a // b, a % b). For floating point numbers the result is (q, a % b), where q is usually math.floor(a / b) but may be 1 less than that. In any case q * b + a % b is very close to a, if a % b is non-zero it has the same sign as b, and 0 <= abs(a % b) < abs(b)"
   ]
  },
  {
   "cell_type": "markdown",
   "metadata": {},
   "source": [
    "If a and b are integers, this method just equals: (a // b, a % b)"
   ]
  },
  {
   "cell_type": "code",
   "execution_count": 38,
   "metadata": {},
   "outputs": [
    {
     "data": {
      "text/plain": [
       "(2, 0)"
      ]
     },
     "execution_count": 38,
     "metadata": {},
     "output_type": "execute_result"
    }
   ],
   "source": [
    "divmod(6,3)"
   ]
  },
  {
   "cell_type": "markdown",
   "metadata": {},
   "source": [
    "If float number is included, it behaves like (math.floor(a/b), a%n)"
   ]
  },
  {
   "cell_type": "code",
   "execution_count": 42,
   "metadata": {},
   "outputs": [
    {
     "data": {
      "text/plain": [
       "(1.0, 2.647)"
      ]
     },
     "execution_count": 42,
     "metadata": {},
     "output_type": "execute_result"
    }
   ],
   "source": [
    "divmod(5.3,2.653)"
   ]
  },
  {
   "cell_type": "code",
   "execution_count": 44,
   "metadata": {},
   "outputs": [
    {
     "data": {
      "text/plain": [
       "2.647"
      ]
     },
     "execution_count": 44,
     "metadata": {},
     "output_type": "execute_result"
    }
   ],
   "source": [
    "import math\n",
    "math.floor(5.3/2.653)\n",
    "5.3%2.653"
   ]
  },
  {
   "cell_type": "markdown",
   "metadata": {
    "collapsed": true
   },
   "source": [
    "# 17. enumerate(iterable, start=0)\n",
    "\n",
    "Return an enumerate object. iterable must be a sequence, an iterator, or some other object which supports iteration. The \\__next\\__() method of the iterator returned by enumerate() returns a tuple containing a count (from start which defaults to 0) and the values obtained from iterating over iterable."
   ]
  },
  {
   "cell_type": "code",
   "execution_count": 2,
   "metadata": {},
   "outputs": [
    {
     "data": {
      "text/plain": [
       "[(0, 'Spring'), (1, 'Summer'), (2, 'Fall'), (3, 'Winter')]"
      ]
     },
     "execution_count": 2,
     "metadata": {},
     "output_type": "execute_result"
    }
   ],
   "source": [
    "seasons = ['Spring', 'Summer', 'Fall', 'Winter']\n",
    "list(enumerate(seasons))"
   ]
  },
  {
   "cell_type": "markdown",
   "metadata": {},
   "source": [
    "You can also specify the count by change the start argument(the default value is 0)"
   ]
  },
  {
   "cell_type": "code",
   "execution_count": 3,
   "metadata": {},
   "outputs": [
    {
     "data": {
      "text/plain": [
       "[(1, 'Spring'), (2, 'Summer'), (3, 'Fall'), (4, 'Winter')]"
      ]
     },
     "execution_count": 3,
     "metadata": {},
     "output_type": "execute_result"
    }
   ],
   "source": [
    "list(enumerate(seasons,start = 1))"
   ]
  },
  {
   "cell_type": "markdown",
   "metadata": {},
   "source": [
    "This function is equivalent to:"
   ]
  },
  {
   "cell_type": "code",
   "execution_count": 4,
   "metadata": {
    "collapsed": true
   },
   "outputs": [],
   "source": [
    "def enumerate(sequence, start=0):\n",
    "    n = start\n",
    "    for elem in sequence:\n",
    "        yield n, elem\n",
    "        n += 1"
   ]
  },
  {
   "cell_type": "markdown",
   "metadata": {},
   "source": [
    "# 18. eval(expression, globals=None, locals=None) (还是不理解)\n",
    "\n",
    "The arguments are a string and optional globals and locals. If provided, **globals must be a dictionary**. If provided, **locals can be any mapping object**.\n",
    "\n",
    "The expression argument is parsed and evaluated as a Python expression (technically speaking, a condition list) using the globals and locals dictionaries as global and local namespace. If the globals dictionary is present and lacks ‘\\__builtins\\__’, the current globals are copied into globals before expression is parsed. This means that expression normally has full access to the standard builtins module and restricted environments are propagated. \n",
    "\n",
    "If the locals dictionary is omitted it defaults to the globals dictionary. If both dictionaries are omitted, the expression is executed in the environment where eval() is called. The return value is the result of the evaluated expression. Syntax errors are reported as exceptions. Example:"
   ]
  },
  {
   "cell_type": "code",
   "execution_count": 5,
   "metadata": {},
   "outputs": [
    {
     "data": {
      "text/plain": [
       "3"
      ]
     },
     "execution_count": 5,
     "metadata": {},
     "output_type": "execute_result"
    }
   ],
   "source": [
    "x = 1\n",
    "eval('x+2')"
   ]
  },
  {
   "cell_type": "code",
   "execution_count": 14,
   "metadata": {},
   "outputs": [
    {
     "data": {
      "text/plain": [
       "(2, 0)"
      ]
     },
     "execution_count": 14,
     "metadata": {},
     "output_type": "execute_result"
    }
   ],
   "source": [
    "code = 'divmod(6,3)'\n",
    "result = compile(code, filename = '', mode = 'eval')\n",
    "eval(result)"
   ]
  },
  {
   "cell_type": "markdown",
   "metadata": {},
   "source": [
    "This function can also be used to execute arbitrary code objects (such as those created by compile()). In this case pass a code object instead of a string. If the code object has been compiled with 'exec' as the mode argument, eval()‘s return value will be None.\n",
    "\n",
    "Hints: dynamic execution of statements is supported by the exec() function. The globals() and locals() functions returns the current global and local dictionary, respectively, which may be useful to pass around for use by eval() or exec().\n",
    "See ast.literal_eval() for a function that can safely evaluate strings with expressions containing only literals."
   ]
  },
  {
   "cell_type": "markdown",
   "metadata": {},
   "source": [
    "**说明1**：该函数主要执行的就是动态语句，返回语句执行的值"
   ]
  },
  {
   "cell_type": "code",
   "execution_count": 8,
   "metadata": {},
   "outputs": [
    {
     "data": {
      "text/plain": [
       "10"
      ]
     },
     "execution_count": 8,
     "metadata": {},
     "output_type": "execute_result"
    }
   ],
   "source": [
    "eval('1+2+3+4')"
   ]
  },
  {
   "cell_type": "markdown",
   "metadata": {},
   "source": [
    "**说明2**: 第一个参数为语句字符串，globals参数和locals参数为可选参数，如果提供，globals参数必需是字典，locals参数可以为mapping对象。\n",
    "\n",
    "**说明3**：globals参数用来指定代码执行时可以使用的全局变量以及收集代码执行后的全局变量。"
   ]
  },
  {
   "cell_type": "code",
   "execution_count": 9,
   "metadata": {},
   "outputs": [
    {
     "name": "stdout",
     "output_type": "stream",
     "text": [
      "unsupported operand type(s) for +:\"dict\" and \"int\"\n"
     ]
    }
   ],
   "source": [
    "try:\n",
    "    h = {'num1':1, 'num2':2}\n",
    "    eval('h + 2')\n",
    "except TypeError:\n",
    "    print('unsupported operand type(s) for +:\"dict\" and \"int\"')"
   ]
  },
  {
   "cell_type": "code",
   "execution_count": 10,
   "metadata": {},
   "outputs": [
    {
     "data": {
      "text/plain": [
       "3"
      ]
     },
     "execution_count": 10,
     "metadata": {},
     "output_type": "execute_result"
    }
   ],
   "source": [
    "h = {'num1':1, 'num2':2}\n",
    "eval('num1 + 2', h)"
   ]
  },
  {
   "cell_type": "code",
   "execution_count": 11,
   "metadata": {},
   "outputs": [
    {
     "data": {
      "text/plain": [
       "4"
      ]
     },
     "execution_count": 11,
     "metadata": {},
     "output_type": "execute_result"
    }
   ],
   "source": [
    "g = {'num':2}\n",
    "eval('num + 2',g)"
   ]
  },
  {
   "cell_type": "markdown",
   "metadata": {},
   "source": [
    "**说明4**：locals参数用来指定代码执行时可以使用的局部变量以及收集代码执行后的局部变量。"
   ]
  },
  {
   "cell_type": "code",
   "execution_count": 11,
   "metadata": {},
   "outputs": [
    {
     "data": {
      "text/plain": [
       "6"
      ]
     },
     "execution_count": 11,
     "metadata": {},
     "output_type": "execute_result"
    }
   ],
   "source": [
    "g = {'num1':2}\n",
    "l = {'num2':4}\n",
    "eval('num1+num2',g,l)"
   ]
  },
  {
   "cell_type": "code",
   "execution_count": 22,
   "metadata": {},
   "outputs": [
    {
     "name": "stdout",
     "output_type": "stream",
     "text": [
      "True\n"
     ]
    }
   ],
   "source": [
    "print(True if 'l' in locals().keys() else False)"
   ]
  },
  {
   "cell_type": "markdown",
   "metadata": {},
   "source": [
    "**说明5**: 为了保证代码成功运行，globals参数字典不包含 __builtins__ 这个 key 时，Python会自动添加一个key为 __builtins__ ，value为builtins模块的引用。如果确实要限制代码不使用builtins模块，需要在global添加一个key为\\__builtins\\__，value为{}的项即可（很少有人这么干吧）。"
   ]
  },
  {
   "cell_type": "code",
   "execution_count": 45,
   "metadata": {},
   "outputs": [
    {
     "data": {
      "text/plain": [
       "(2, 0)"
      ]
     },
     "execution_count": 45,
     "metadata": {},
     "output_type": "execute_result"
    }
   ],
   "source": [
    "g = {}\n",
    "eval('divmod(6,3)', {})"
   ]
  },
  {
   "cell_type": "code",
   "execution_count": 30,
   "metadata": {},
   "outputs": [
    {
     "ename": "NameError",
     "evalue": "name 'divmod' is not defined",
     "output_type": "error",
     "traceback": [
      "\u001b[1;31m---------------------------------------------------------------------------\u001b[0m",
      "\u001b[1;31mNameError\u001b[0m                                 Traceback (most recent call last)",
      "\u001b[1;32m<ipython-input-30-8eb546a5d59f>\u001b[0m in \u001b[0;36m<module>\u001b[1;34m()\u001b[0m\n\u001b[0;32m      1\u001b[0m \u001b[0mg\u001b[0m \u001b[1;33m=\u001b[0m \u001b[1;33m{\u001b[0m\u001b[1;34m'__builtins__'\u001b[0m\u001b[1;33m:\u001b[0m\u001b[1;33m{\u001b[0m\u001b[1;33m}\u001b[0m\u001b[1;33m}\u001b[0m\u001b[1;33m\u001b[0m\u001b[0m\n\u001b[1;32m----> 2\u001b[1;33m \u001b[0meval\u001b[0m\u001b[1;33m(\u001b[0m\u001b[1;34m'divmod(6,3)'\u001b[0m\u001b[1;33m,\u001b[0m \u001b[0mg\u001b[0m\u001b[1;33m)\u001b[0m \u001b[1;31m# can not use the built-in functions\u001b[0m\u001b[1;33m\u001b[0m\u001b[0m\n\u001b[0m",
      "\u001b[1;32m<string>\u001b[0m in \u001b[0;36m<module>\u001b[1;34m()\u001b[0m\n",
      "\u001b[1;31mNameError\u001b[0m: name 'divmod' is not defined"
     ]
    }
   ],
   "source": [
    "g = {'__builtins__':{}}\n",
    "eval('divmod(6,3)', g) # can not use the built-in functions"
   ]
  },
  {
   "cell_type": "markdown",
   "metadata": {},
   "source": [
    "If the locals dictionary is omitted it defaults to the globals dictionary. If both dictionaries are omitted, the expression is executed in the environment where eval() is called. The return value is the result of the evaluated expression. Syntax errors are reported as exceptions. Example:"
   ]
  },
  {
   "cell_type": "code",
   "execution_count": 52,
   "metadata": {},
   "outputs": [
    {
     "data": {
      "text/plain": [
       "3"
      ]
     },
     "execution_count": 52,
     "metadata": {},
     "output_type": "execute_result"
    }
   ],
   "source": [
    "num = 1\n",
    "eval('num+2')"
   ]
  },
  {
   "cell_type": "code",
   "execution_count": 53,
   "metadata": {},
   "outputs": [
    {
     "name": "stdout",
     "output_type": "stream",
     "text": [
      "True\n"
     ]
    }
   ],
   "source": [
    "print('True' if 'num' in globals().keys() else 'False')"
   ]
  },
  {
   "cell_type": "code",
   "execution_count": 60,
   "metadata": {},
   "outputs": [
    {
     "data": {
      "text/plain": [
       "3"
      ]
     },
     "execution_count": 60,
     "metadata": {},
     "output_type": "execute_result"
    }
   ],
   "source": [
    "tr = globals()\n",
    "eval('num+2',tr) #locals参数未提供, globals参数=locals参数"
   ]
  },
  {
   "cell_type": "code",
   "execution_count": 68,
   "metadata": {},
   "outputs": [
    {
     "data": {
      "text/plain": [
       "3"
      ]
     },
     "execution_count": 68,
     "metadata": {},
     "output_type": "execute_result"
    }
   ],
   "source": [
    "l = locals()\n",
    "eval('num+2',{\"num2\":5},l) #locals参数含有num的key，能求值"
   ]
  },
  {
   "cell_type": "code",
   "execution_count": 59,
   "metadata": {},
   "outputs": [
    {
     "name": "stdout",
     "output_type": "stream",
     "text": [
      "1\n"
     ]
    }
   ],
   "source": [
    "print(locals()['num'])"
   ]
  },
  {
   "cell_type": "markdown",
   "metadata": {},
   "source": [
    "## 18.1 关于locals()和globals()\n",
    "\n",
    "1. locals() 和 globals() 是python 的内建函数，他们提供了字典的形式访问局部变量和全局变量的方式。\n",
    "2. locals() 返回是当前局部变量的深拷贝，修改locals() 中变量值的时候，实际上对于原变量本身是没有任何影响的。而globals()返回的是全局变量的字典，修改其中的内容，值会真正的发生改变。"
   ]
  },
  {
   "cell_type": "code",
   "execution_count": 63,
   "metadata": {},
   "outputs": [
    {
     "name": "stdout",
     "output_type": "stream",
     "text": [
      "a =  1\n",
      "b =  4\n"
     ]
    }
   ],
   "source": [
    "b = 5\n",
    "def test():\n",
    "    a = 1\n",
    "    locals()['a'] = 3\n",
    "    print('a = ',a)\n",
    "    globals()['b'] = 4\n",
    "    print('b = ',b)\n",
    "    \n",
    "if __name__ == '__main__':\n",
    "    test()"
   ]
  },
  {
   "cell_type": "markdown",
   "metadata": {},
   "source": [
    "更多关于全局变量和局部变量的知识在：[Python的全局变量和局部变量](http://www.cnblogs.com/snake-hand/archive/2013/06/16/3138866.html)"
   ]
  },
  {
   "cell_type": "code",
   "execution_count": 20,
   "metadata": {},
   "outputs": [
    {
     "name": "stdout",
     "output_type": "stream",
     "text": [
      "300\n",
      "200\n"
     ]
    }
   ],
   "source": [
    "num = 100\n",
    "\n",
    "def f():\n",
    "    global num\n",
    "    num = 200\n",
    "    result = num + 100\n",
    "    return result\n",
    "\n",
    "print(f())\n",
    "print(num)"
   ]
  },
  {
   "cell_type": "markdown",
   "metadata": {},
   "source": [
    "关于\\__name\\__ == \\__main\\__"
   ]
  },
  {
   "cell_type": "markdown",
   "metadata": {},
   "source": [
    "\\__name\\__系统变量指示模块应如何被加载，他的值为\"\\__main\\__\"时表示当前模块是被直接执行。\n",
    "由于主程序代码无论模块是被导入还是直接被执行都会运行，所以我们需要一种方式在运行时检测该模块是被导入还是被直接执行。该方式也就是\\__name\\__系统变量。\n",
    "\n",
    "- 如果模块是被导入，\\__name\\__的值为模块名字；\n",
    "- 如果是被直接执行，\\__name\\__的值为\"\\__main\\__\"。\n",
    "\n",
    "此处所说的模块可以简单理解为一个.py文件。"
   ]
  },
  {
   "cell_type": "markdown",
   "metadata": {
    "collapsed": true
   },
   "source": [
    "# 19. exec(object[, globals[, locals]]) \n",
    "\n",
    "This function supports dynamic execution of Python code. object must be either a string or a code object. If it is a string, the string is parsed as a suite of Python statements which is then executed (unless a syntax error occurs). [1] If it is a code object, it is simply executed. In all cases, the code that’s executed is expected to be valid as file input (see the section “File input” in the Reference Manual). Be aware that the return and yield statements may not be used outside of function definitions even within the context of code passed to the exec() function. The return value is None.\n",
    "\n",
    "In all cases, if the optional parts are omitted, the code is executed in the current scope. \n",
    "1. **If only globals is provided, it must be a dictionary, which will be used for both the global and the local variables**.\n",
    "2. **If globals and locals are given, they are used for the global and local variables, respectively**. \n",
    "3. If provided, locals can be any mapping object. \n",
    "\n",
    "Remember that at module level, globals and locals are the same dictionary. If exec gets two separate objects as globals and locals, the code will be executed as if it were embedded in a class definition.\n",
    "\n",
    "If the globals dictionary does not contain a value for the key __builtins__, a reference to the dictionary of the built-in module builtins is inserted under that key. That way you can control what builtins are available to the executed code by inserting your own __builtins__ dictionary into globals before passing it to exec()."
   ]
  },
  {
   "cell_type": "markdown",
   "metadata": {},
   "source": [
    "**Note**:\n",
    "\n",
    "1. The built-in functions globals() and locals() return the current global and local dictionary, respectively, which may be useful to pass around for use as the second and third argument to exec().\n",
    "2. The default locals act as described for function locals() below: modifications to the default locals dictionary should not be attempted. Pass an explicit locals dictionary if you need to see effects of the code on locals after function exec() returns."
   ]
  },
  {
   "cell_type": "markdown",
   "metadata": {},
   "source": [
    "eval和exec比较相似，但是eval主要用于执行表达式求值，exec主要执行语句块"
   ]
  },
  {
   "cell_type": "code",
   "execution_count": 17,
   "metadata": {},
   "outputs": [
    {
     "name": "stdout",
     "output_type": "stream",
     "text": [
      "0\n",
      "1\n",
      "2\n",
      "3\n",
      "4\n",
      "5\n",
      "6\n",
      "7\n",
      "8\n",
      "9\n"
     ]
    }
   ],
   "source": [
    "code = 'for i in range(10): print(i)'\n",
    "result = compile(code, filename = '', mode = 'exec')\n",
    "exec(result)"
   ]
  },
  {
   "cell_type": "code",
   "execution_count": 5,
   "metadata": {},
   "outputs": [
    {
     "data": {
      "text/plain": [
       "3"
      ]
     },
     "execution_count": 5,
     "metadata": {},
     "output_type": "execute_result"
    }
   ],
   "source": [
    "exec('a = 1+2')\n",
    "a"
   ]
  },
  {
   "cell_type": "markdown",
   "metadata": {},
   "source": [
    "和eval()类似，exec第一个参数为语句字符串，globals和locals依然是可选参数，并且如果只有globals提供，globals则必须是字典；如果globals和locals都有，他们分别被当作全局和局部变量使用；如果locals有值，一般赋给它mapping object(locals must be a mapping or None, not set)"
   ]
  },
  {
   "cell_type": "code",
   "execution_count": 18,
   "metadata": {},
   "outputs": [
    {
     "name": "stdout",
     "output_type": "stream",
     "text": [
      "2\n",
      "4\n"
     ]
    }
   ],
   "source": [
    "g = {'num':2}\n",
    "exec(\"num2 = num + 2\",g)\n",
    "print(g['num'])\n",
    "print(g['num2']) # exec把num2也加入到了全局变量g中"
   ]
  },
  {
   "cell_type": "markdown",
   "metadata": {},
   "source": [
    "locals参数用来指定代码执行时可以使用的局部变量以及收集代码执行后的局部变量"
   ]
  },
  {
   "cell_type": "code",
   "execution_count": 33,
   "metadata": {},
   "outputs": [
    {
     "name": "stdout",
     "output_type": "stream",
     "text": [
      "13\n",
      "15\n"
     ]
    }
   ],
   "source": [
    "g = {'num':2}\n",
    "l = {'num2':3}\n",
    "exec('''\n",
    "num2 = 13\n",
    "num3 = num + num2\n",
    "''',g,l)\n",
    "print(l['num2'])\n",
    "print(l['num3'])"
   ]
  },
  {
   "cell_type": "code",
   "execution_count": 25,
   "metadata": {},
   "outputs": [
    {
     "name": "stdout",
     "output_type": "stream",
     "text": [
      "orginal: [1, 2, 3, 4, 5, 1, 2, 3, 4, 5, 6, 7, 8, 9, 0]\n",
      "[0, 1, 2, 3, 4, 5, 6, 7, 8, 9]\n"
     ]
    }
   ],
   "source": [
    "a = [1, 2, 3, 4, 5,1,2,3,4,5,6,7,8,9,0]\n",
    "print(\"orginal:\", a)\n",
    "print(list(set(a)))"
   ]
  },
  {
   "cell_type": "markdown",
   "metadata": {},
   "source": [
    "为了保证代码成功运行，globals参数字典不包含 __builtins__ 这个 key 时，Python会自动添加一个key为 __builtins__ ，value为builtins模块的引用。如果确实要限制代码不使用builtins模块，需要在global添加一个key为__builtins__，value为{}的项即可（很少有人这么干吧）。"
   ]
  },
  {
   "cell_type": "code",
   "execution_count": 38,
   "metadata": {
    "collapsed": true
   },
   "outputs": [],
   "source": [
    "g = {}\n",
    "exec('a = abs(-1)',g)"
   ]
  },
  {
   "cell_type": "code",
   "execution_count": 39,
   "metadata": {},
   "outputs": [
    {
     "ename": "NameError",
     "evalue": "name 'abs' is not defined",
     "output_type": "error",
     "traceback": [
      "\u001b[1;31m---------------------------------------------------------------------------\u001b[0m",
      "\u001b[1;31mNameError\u001b[0m                                 Traceback (most recent call last)",
      "\u001b[1;32m<ipython-input-39-1da33d719cfd>\u001b[0m in \u001b[0;36m<module>\u001b[1;34m()\u001b[0m\n\u001b[0;32m      1\u001b[0m \u001b[0mg\u001b[0m \u001b[1;33m=\u001b[0m \u001b[1;33m{\u001b[0m\u001b[1;34m'__builtins__'\u001b[0m\u001b[1;33m:\u001b[0m\u001b[1;33m{\u001b[0m\u001b[1;33m}\u001b[0m\u001b[1;33m}\u001b[0m\u001b[1;33m\u001b[0m\u001b[0m\n\u001b[1;32m----> 2\u001b[1;33m \u001b[0mexec\u001b[0m\u001b[1;33m(\u001b[0m\u001b[1;34m'a = abs(-1)'\u001b[0m\u001b[1;33m,\u001b[0m\u001b[0mg\u001b[0m\u001b[1;33m)\u001b[0m \u001b[1;31m#不能使用内置函数了\u001b[0m\u001b[1;33m\u001b[0m\u001b[0m\n\u001b[0m",
      "\u001b[1;32m<string>\u001b[0m in \u001b[0;36m<module>\u001b[1;34m()\u001b[0m\n",
      "\u001b[1;31mNameError\u001b[0m: name 'abs' is not defined"
     ]
    }
   ],
   "source": [
    "g = {'__builtins__':{}}\n",
    "exec('a = abs(-1)',g) #不能使用内置函数了"
   ]
  },
  {
   "cell_type": "markdown",
   "metadata": {},
   "source": [
    "当globals参数不提供是，Python默认使用globals()函数返回的字典去调用。当locals参数不提供时，默认使用globals参数去调用"
   ]
  },
  {
   "cell_type": "code",
   "execution_count": 42,
   "metadata": {},
   "outputs": [
    {
     "data": {
      "text/plain": [
       "{'In': ['',\n",
       "  \"eval('a = 1+2')\",\n",
       "  \"exec('a = 1+2')\",\n",
       "  \"exec('a = 1+2')\\na\",\n",
       "  \"eval('a = 1+2')\\na\",\n",
       "  \"exec('a = 1+2')\\na\",\n",
       "  'g = {num:2}\\nexec(\"num2 = num+2\",g)',\n",
       "  'g = {\\'num\\':2}\\nexec(\"num2 = num+2\",g)',\n",
       "  'g = {\\'num\\':2}\\nresult = exec(\"num2 = num+2\",g)\\nresult',\n",
       "  'g = {\\'num\\':2}\\nresult = exec(\"num2 = num+2\",g)\\nprint(result)',\n",
       "  'g = {\\'num\\':2}\\nresult = exec(\"num2 = num + 2\",g)\\ng[\\'num\\']',\n",
       "  'g = {\\'num\\':2}\\nexec(\"num2 = num + 2\",g)\\ng[\\'num\\']',\n",
       "  'g = {\\'num\\':2}\\nexec(\"num2 = num + 2\",g)\\nprint(g[\\'num\\'])\\nprint(g[\\'num2\\']) # exec把num2也加入到了全局变量g中',\n",
       "  \"l = {'num3',4}\\ng = {'num':2}\\nexec = {'num2 = num3 + num + 1',g,l}\",\n",
       "  \"l = {'num3',4}\\ng = {'num':2}\\nexec = {'num2 = num3 + num + 1',globals = g,locals = l}\",\n",
       "  \"l = {'num3',4}\\ng = {'num':2}\\nexec = exec('num2 = num3 + num + 1',globals = g,locals = l)\",\n",
       "  \"l = {'num3',4}\\ng = {'num':2}\\nexec = exec('num2 = num3 + num + 1',g,l)\",\n",
       "  \"l = {'num3',4}\\ng = {'num':2}\\nexec('num2 = num3 + num + 1',g,l)\",\n",
       "  \"l = locals()\\ng = {'num':2}\\nexec('num2 = num3 + num + 1',g,l)\",\n",
       "  \"num3 = locals()\\ng = {'num':2}\\nexec('num2 = num3 + num + 1',g,l)\",\n",
       "  \"g = {'num',2}\\nl = {'num2',3}\\nexec = {'''\\nnum2 = l3\\nnum3 = num + num2\\n''', g, l}\",\n",
       "  'a = [1， 2， 3， 4， 5， 1， 2， 3， 4， 5， 6， 7， 8， 9， 0]\\nprint(\"orginal:\"， a)\\nprint(list(set(a)))',\n",
       "  'a = [1, 2, 3, 4, 5]\\nprint(\"orginal:\"， a)\\nprint(list(set(a)))',\n",
       "  'a = [1, 2, 3, 4, 5]\\nprint(\"orginal:\", a)\\nprint(list(set(a)))',\n",
       "  'a = [1, 2, 3, 4, 5,1,2,3,4,5,6,7,8,0,0]\\nprint(\"orginal:\", a)\\nprint(list(set(a)))',\n",
       "  'a = [1, 2, 3, 4, 5,1,2,3,4,5,6,7,8,9,0]\\nprint(\"orginal:\", a)\\nprint(list(set(a)))',\n",
       "  \"g = {'num',2}\\nl = {'num2',3}\\nexec('''\\nnum2 = 13\\nnum3 = num + num2\\n''',g,l)\",\n",
       "  \"g = {'num':2}\\nl = {'num2':3}\\nexec('''\\nnum2 = 13\\nnum3 = num + num2\\n''',g,l)\",\n",
       "  \"g = {'num':2}\\nl = {'num2':3}\\nexec('''\\nnum2 = 13\\nnum3 = num + num2\\n''',g,l)\",\n",
       "  \"g = {'num':2}\\nl = {'num2':3}\\nexec('''\\nnum2 = 13\\nnum3 = num + num2\\n''',g,l)\\nl['num2']\",\n",
       "  \"g = {'num':2}\\nl = {'num2':3}\\nexec('''\\nnum2 = 13\\nnum3 = num + num2\\n''',g,l)\\nl['num2']\\nprint(num3)\",\n",
       "  \"g = {'num':2}\\nl = {'num2':3}\\nexec('''\\nnum2 = 13\\nnum3 = num + num2\\n''',g,l)\\nl['num2']\\ng['num3']\",\n",
       "  \"g = {'num':2}\\nl = {'num2':3}\\nexec('''\\nnum2 = 13\\nnum3 = num + num2\\n''',g,l)\\nl['num2']\\nl['num3']\",\n",
       "  \"g = {'num':2}\\nl = {'num2':3}\\nexec('''\\nnum2 = 13\\nnum3 = num + num2\\n''',g,l)\\nprint(l['num2'])\\nprint(l['num3'])\",\n",
       "  \"g = {}\\nexec('abs(-1)+1',g)\",\n",
       "  \"g = {}\\nexec('a = abs(-1)+1',g)\\na\",\n",
       "  \"g = {}\\nexec('a = abs(-1)',g)\\na\",\n",
       "  \"g = {}\\nexec('a = abs(-1)',g)\\na\",\n",
       "  \"g = {}\\nexec('a = abs(-1)',g)\",\n",
       "  \"g = {'__builtins__':{}}\\nexec('a = abs(-1)',g) #不能使用内置函数了\",\n",
       "  \"num = 1\\nexec('num2 = num + 1')\",\n",
       "  \"num = 1\\nexec('num2 = num + 1')\\nnum2\",\n",
       "  \"num = 1\\nexec('num2 = num + 1')\\nglobals()\"],\n",
       " 'Out': {3: 3,\n",
       "  5: 3,\n",
       "  10: 2,\n",
       "  11: 2,\n",
       "  29: 13,\n",
       "  32: 15,\n",
       "  35: [1, 2, 3, 4, 5, 1, 2, 3, 4, 5, 6, 7, 8, 9, 0],\n",
       "  36: [1, 2, 3, 4, 5, 1, 2, 3, 4, 5, 6, 7, 8, 9, 0],\n",
       "  37: [1, 2, 3, 4, 5, 1, 2, 3, 4, 5, 6, 7, 8, 9, 0],\n",
       "  41: 2},\n",
       " '_': 2,\n",
       " '_10': 2,\n",
       " '_11': 2,\n",
       " '_29': 13,\n",
       " '_3': 3,\n",
       " '_32': 15,\n",
       " '_35': [1, 2, 3, 4, 5, 1, 2, 3, 4, 5, 6, 7, 8, 9, 0],\n",
       " '_36': [1, 2, 3, 4, 5, 1, 2, 3, 4, 5, 6, 7, 8, 9, 0],\n",
       " '_37': [1, 2, 3, 4, 5, 1, 2, 3, 4, 5, 6, 7, 8, 9, 0],\n",
       " '_41': 2,\n",
       " '_5': 3,\n",
       " '__': [1, 2, 3, 4, 5, 1, 2, 3, 4, 5, 6, 7, 8, 9, 0],\n",
       " '___': [1, 2, 3, 4, 5, 1, 2, 3, 4, 5, 6, 7, 8, 9, 0],\n",
       " '__builtin__': <module 'builtins' (built-in)>,\n",
       " '__builtins__': <module 'builtins' (built-in)>,\n",
       " '__doc__': 'Automatically created module for IPython interactive environment',\n",
       " '__loader__': None,\n",
       " '__name__': '__main__',\n",
       " '__package__': None,\n",
       " '__spec__': None,\n",
       " '_dh': ['F:\\\\Python\\\\Scripts\\\\Scripts'],\n",
       " '_i': \"num = 1\\nexec('num2 = num + 1')\\nnum2\",\n",
       " '_i1': \"eval('a = 1+2')\",\n",
       " '_i10': 'g = {\\'num\\':2}\\nresult = exec(\"num2 = num + 2\",g)\\ng[\\'num\\']',\n",
       " '_i11': 'g = {\\'num\\':2}\\nexec(\"num2 = num + 2\",g)\\ng[\\'num\\']',\n",
       " '_i12': 'g = {\\'num\\':2}\\nexec(\"num2 = num + 2\",g)\\nprint(g[\\'num\\'])\\nprint(g[\\'num2\\']) # exec把num2也加入到了全局变量g中',\n",
       " '_i13': \"l = {'num3',4}\\ng = {'num':2}\\nexec = {'num2 = num3 + num + 1',g,l}\",\n",
       " '_i14': \"l = {'num3',4}\\ng = {'num':2}\\nexec = {'num2 = num3 + num + 1',globals = g,locals = l}\",\n",
       " '_i15': \"l = {'num3',4}\\ng = {'num':2}\\nexec = exec('num2 = num3 + num + 1',globals = g,locals = l)\",\n",
       " '_i16': \"l = {'num3',4}\\ng = {'num':2}\\nexec = exec('num2 = num3 + num + 1',g,l)\",\n",
       " '_i17': \"l = {'num3',4}\\ng = {'num':2}\\nexec('num2 = num3 + num + 1',g,l)\",\n",
       " '_i18': \"l = locals()\\ng = {'num':2}\\nexec('num2 = num3 + num + 1',g,l)\",\n",
       " '_i19': \"num3 = locals()\\ng = {'num':2}\\nexec('num2 = num3 + num + 1',g,l)\",\n",
       " '_i2': \"exec('a = 1+2')\",\n",
       " '_i20': \"g = {'num',2}\\nl = {'num2',3}\\nexec = {'''\\nnum2 = l3\\nnum3 = num + num2\\n''', g, l}\",\n",
       " '_i21': 'a = [1， 2， 3， 4， 5， 1， 2， 3， 4， 5， 6， 7， 8， 9， 0]\\nprint(\"orginal:\"， a)\\nprint(list(set(a)))',\n",
       " '_i22': 'a = [1, 2, 3, 4, 5]\\nprint(\"orginal:\"， a)\\nprint(list(set(a)))',\n",
       " '_i23': 'a = [1, 2, 3, 4, 5]\\nprint(\"orginal:\", a)\\nprint(list(set(a)))',\n",
       " '_i24': 'a = [1, 2, 3, 4, 5,1,2,3,4,5,6,7,8,0,0]\\nprint(\"orginal:\", a)\\nprint(list(set(a)))',\n",
       " '_i25': 'a = [1, 2, 3, 4, 5,1,2,3,4,5,6,7,8,9,0]\\nprint(\"orginal:\", a)\\nprint(list(set(a)))',\n",
       " '_i26': \"g = {'num',2}\\nl = {'num2',3}\\nexec('''\\nnum2 = 13\\nnum3 = num + num2\\n''',g,l)\",\n",
       " '_i27': \"g = {'num':2}\\nl = {'num2':3}\\nexec('''\\nnum2 = 13\\nnum3 = num + num2\\n''',g,l)\",\n",
       " '_i28': \"g = {'num':2}\\nl = {'num2':3}\\nexec('''\\nnum2 = 13\\nnum3 = num + num2\\n''',g,l)\",\n",
       " '_i29': \"g = {'num':2}\\nl = {'num2':3}\\nexec('''\\nnum2 = 13\\nnum3 = num + num2\\n''',g,l)\\nl['num2']\",\n",
       " '_i3': \"exec('a = 1+2')\\na\",\n",
       " '_i30': \"g = {'num':2}\\nl = {'num2':3}\\nexec('''\\nnum2 = 13\\nnum3 = num + num2\\n''',g,l)\\nl['num2']\\nprint(num3)\",\n",
       " '_i31': \"g = {'num':2}\\nl = {'num2':3}\\nexec('''\\nnum2 = 13\\nnum3 = num + num2\\n''',g,l)\\nl['num2']\\ng['num3']\",\n",
       " '_i32': \"g = {'num':2}\\nl = {'num2':3}\\nexec('''\\nnum2 = 13\\nnum3 = num + num2\\n''',g,l)\\nl['num2']\\nl['num3']\",\n",
       " '_i33': \"g = {'num':2}\\nl = {'num2':3}\\nexec('''\\nnum2 = 13\\nnum3 = num + num2\\n''',g,l)\\nprint(l['num2'])\\nprint(l['num3'])\",\n",
       " '_i34': \"g = {}\\nexec('abs(-1)+1',g)\",\n",
       " '_i35': \"g = {}\\nexec('a = abs(-1)+1',g)\\na\",\n",
       " '_i36': \"g = {}\\nexec('a = abs(-1)',g)\\na\",\n",
       " '_i37': \"g = {}\\nexec('a = abs(-1)',g)\\na\",\n",
       " '_i38': \"g = {}\\nexec('a = abs(-1)',g)\",\n",
       " '_i39': \"g = {'__builtins__':{}}\\nexec('a = abs(-1)',g) #不能使用内置函数了\",\n",
       " '_i4': \"eval('a = 1+2')\\na\",\n",
       " '_i40': \"num = 1\\nexec('num2 = num + 1')\",\n",
       " '_i41': \"num = 1\\nexec('num2 = num + 1')\\nnum2\",\n",
       " '_i42': \"num = 1\\nexec('num2 = num + 1')\\nglobals()\",\n",
       " '_i5': \"exec('a = 1+2')\\na\",\n",
       " '_i6': 'g = {num:2}\\nexec(\"num2 = num+2\",g)',\n",
       " '_i7': 'g = {\\'num\\':2}\\nexec(\"num2 = num+2\",g)',\n",
       " '_i8': 'g = {\\'num\\':2}\\nresult = exec(\"num2 = num+2\",g)\\nresult',\n",
       " '_i9': 'g = {\\'num\\':2}\\nresult = exec(\"num2 = num+2\",g)\\nprint(result)',\n",
       " '_ih': ['',\n",
       "  \"eval('a = 1+2')\",\n",
       "  \"exec('a = 1+2')\",\n",
       "  \"exec('a = 1+2')\\na\",\n",
       "  \"eval('a = 1+2')\\na\",\n",
       "  \"exec('a = 1+2')\\na\",\n",
       "  'g = {num:2}\\nexec(\"num2 = num+2\",g)',\n",
       "  'g = {\\'num\\':2}\\nexec(\"num2 = num+2\",g)',\n",
       "  'g = {\\'num\\':2}\\nresult = exec(\"num2 = num+2\",g)\\nresult',\n",
       "  'g = {\\'num\\':2}\\nresult = exec(\"num2 = num+2\",g)\\nprint(result)',\n",
       "  'g = {\\'num\\':2}\\nresult = exec(\"num2 = num + 2\",g)\\ng[\\'num\\']',\n",
       "  'g = {\\'num\\':2}\\nexec(\"num2 = num + 2\",g)\\ng[\\'num\\']',\n",
       "  'g = {\\'num\\':2}\\nexec(\"num2 = num + 2\",g)\\nprint(g[\\'num\\'])\\nprint(g[\\'num2\\']) # exec把num2也加入到了全局变量g中',\n",
       "  \"l = {'num3',4}\\ng = {'num':2}\\nexec = {'num2 = num3 + num + 1',g,l}\",\n",
       "  \"l = {'num3',4}\\ng = {'num':2}\\nexec = {'num2 = num3 + num + 1',globals = g,locals = l}\",\n",
       "  \"l = {'num3',4}\\ng = {'num':2}\\nexec = exec('num2 = num3 + num + 1',globals = g,locals = l)\",\n",
       "  \"l = {'num3',4}\\ng = {'num':2}\\nexec = exec('num2 = num3 + num + 1',g,l)\",\n",
       "  \"l = {'num3',4}\\ng = {'num':2}\\nexec('num2 = num3 + num + 1',g,l)\",\n",
       "  \"l = locals()\\ng = {'num':2}\\nexec('num2 = num3 + num + 1',g,l)\",\n",
       "  \"num3 = locals()\\ng = {'num':2}\\nexec('num2 = num3 + num + 1',g,l)\",\n",
       "  \"g = {'num',2}\\nl = {'num2',3}\\nexec = {'''\\nnum2 = l3\\nnum3 = num + num2\\n''', g, l}\",\n",
       "  'a = [1， 2， 3， 4， 5， 1， 2， 3， 4， 5， 6， 7， 8， 9， 0]\\nprint(\"orginal:\"， a)\\nprint(list(set(a)))',\n",
       "  'a = [1, 2, 3, 4, 5]\\nprint(\"orginal:\"， a)\\nprint(list(set(a)))',\n",
       "  'a = [1, 2, 3, 4, 5]\\nprint(\"orginal:\", a)\\nprint(list(set(a)))',\n",
       "  'a = [1, 2, 3, 4, 5,1,2,3,4,5,6,7,8,0,0]\\nprint(\"orginal:\", a)\\nprint(list(set(a)))',\n",
       "  'a = [1, 2, 3, 4, 5,1,2,3,4,5,6,7,8,9,0]\\nprint(\"orginal:\", a)\\nprint(list(set(a)))',\n",
       "  \"g = {'num',2}\\nl = {'num2',3}\\nexec('''\\nnum2 = 13\\nnum3 = num + num2\\n''',g,l)\",\n",
       "  \"g = {'num':2}\\nl = {'num2':3}\\nexec('''\\nnum2 = 13\\nnum3 = num + num2\\n''',g,l)\",\n",
       "  \"g = {'num':2}\\nl = {'num2':3}\\nexec('''\\nnum2 = 13\\nnum3 = num + num2\\n''',g,l)\",\n",
       "  \"g = {'num':2}\\nl = {'num2':3}\\nexec('''\\nnum2 = 13\\nnum3 = num + num2\\n''',g,l)\\nl['num2']\",\n",
       "  \"g = {'num':2}\\nl = {'num2':3}\\nexec('''\\nnum2 = 13\\nnum3 = num + num2\\n''',g,l)\\nl['num2']\\nprint(num3)\",\n",
       "  \"g = {'num':2}\\nl = {'num2':3}\\nexec('''\\nnum2 = 13\\nnum3 = num + num2\\n''',g,l)\\nl['num2']\\ng['num3']\",\n",
       "  \"g = {'num':2}\\nl = {'num2':3}\\nexec('''\\nnum2 = 13\\nnum3 = num + num2\\n''',g,l)\\nl['num2']\\nl['num3']\",\n",
       "  \"g = {'num':2}\\nl = {'num2':3}\\nexec('''\\nnum2 = 13\\nnum3 = num + num2\\n''',g,l)\\nprint(l['num2'])\\nprint(l['num3'])\",\n",
       "  \"g = {}\\nexec('abs(-1)+1',g)\",\n",
       "  \"g = {}\\nexec('a = abs(-1)+1',g)\\na\",\n",
       "  \"g = {}\\nexec('a = abs(-1)',g)\\na\",\n",
       "  \"g = {}\\nexec('a = abs(-1)',g)\\na\",\n",
       "  \"g = {}\\nexec('a = abs(-1)',g)\",\n",
       "  \"g = {'__builtins__':{}}\\nexec('a = abs(-1)',g) #不能使用内置函数了\",\n",
       "  \"num = 1\\nexec('num2 = num + 1')\",\n",
       "  \"num = 1\\nexec('num2 = num + 1')\\nnum2\",\n",
       "  \"num = 1\\nexec('num2 = num + 1')\\nglobals()\"],\n",
       " '_ii': \"num = 1\\nexec('num2 = num + 1')\",\n",
       " '_iii': \"g = {'__builtins__':{}}\\nexec('a = abs(-1)',g) #不能使用内置函数了\",\n",
       " '_oh': {3: 3,\n",
       "  5: 3,\n",
       "  10: 2,\n",
       "  11: 2,\n",
       "  29: 13,\n",
       "  32: 15,\n",
       "  35: [1, 2, 3, 4, 5, 1, 2, 3, 4, 5, 6, 7, 8, 9, 0],\n",
       "  36: [1, 2, 3, 4, 5, 1, 2, 3, 4, 5, 6, 7, 8, 9, 0],\n",
       "  37: [1, 2, 3, 4, 5, 1, 2, 3, 4, 5, 6, 7, 8, 9, 0],\n",
       "  41: 2},\n",
       " 'a': [1, 2, 3, 4, 5, 1, 2, 3, 4, 5, 6, 7, 8, 9, 0],\n",
       " 'exit': <IPython.core.autocall.ZMQExitAutocall at 0x15b62f64fd0>,\n",
       " 'g': {'__builtins__': {}},\n",
       " 'get_ipython': <bound method InteractiveShell.get_ipython of <ipykernel.zmqshell.ZMQInteractiveShell object at 0x0000015B62F23E80>>,\n",
       " 'l': {'num2': 13, 'num3': 15},\n",
       " 'num': 1,\n",
       " 'num2': 2,\n",
       " 'num3': {...},\n",
       " 'quit': <IPython.core.autocall.ZMQExitAutocall at 0x15b62f64fd0>,\n",
       " 'result': None}"
      ]
     },
     "execution_count": 42,
     "metadata": {},
     "output_type": "execute_result"
    }
   ],
   "source": [
    "num = 1\n",
    "exec('num2 = num + 1')\n",
    "globals()"
   ]
  },
  {
   "cell_type": "code",
   "execution_count": 43,
   "metadata": {},
   "outputs": [
    {
     "ename": "NameError",
     "evalue": "name 'num' is not defined",
     "output_type": "error",
     "traceback": [
      "\u001b[1;31m---------------------------------------------------------------------------\u001b[0m",
      "\u001b[1;31mNameError\u001b[0m                                 Traceback (most recent call last)",
      "\u001b[1;32m<ipython-input-43-9e6a264163fe>\u001b[0m in \u001b[0;36m<module>\u001b[1;34m()\u001b[0m\n\u001b[1;32m----> 1\u001b[1;33m \u001b[0mexec\u001b[0m\u001b[1;33m(\u001b[0m\u001b[1;34m'num2 = num + 1'\u001b[0m\u001b[1;33m,\u001b[0m\u001b[1;33m{\u001b[0m\u001b[1;33m}\u001b[0m\u001b[1;33m)\u001b[0m \u001b[1;31m#指定了globals参数，globals中无num变量 执行失败\u001b[0m\u001b[1;33m\u001b[0m\u001b[0m\n\u001b[0m",
      "\u001b[1;32m<string>\u001b[0m in \u001b[0;36m<module>\u001b[1;34m()\u001b[0m\n",
      "\u001b[1;31mNameError\u001b[0m: name 'num' is not defined"
     ]
    }
   ],
   "source": [
    "exec('num2 = num + 1',{}) #指定了globals参数，globals中无num变量 执行失败"
   ]
  },
  {
   "cell_type": "code",
   "execution_count": 46,
   "metadata": {},
   "outputs": [
    {
     "data": {
      "text/plain": [
       "2"
      ]
     },
     "execution_count": 46,
     "metadata": {},
     "output_type": "execute_result"
    }
   ],
   "source": [
    "exec('num3 = num + 1',{},l)#指定了globals参数，globals中无num变量，指定了locals变量，locals变量含有num变量 执行成功\n",
    "num3"
   ]
  },
  {
   "cell_type": "markdown",
   "metadata": {
    "collapsed": true
   },
   "source": [
    "# 20. filter(function, iterable)\n",
    "\n",
    "Construct an iterator from those elements of iterable for which function returns true. iterable may be either a sequence, a container which supports iteration, or an iterator. If function is None, the identity function is assumed, that is, all elements of iterable that are false are removed.\n",
    "\n",
    "Note that filter(function, iterable) is equivalent to the generator expression (item for item in iterable if function(item)) if function is not None and (item for item in iterable if item) if function is None."
   ]
  },
  {
   "cell_type": "code",
   "execution_count": 2,
   "metadata": {},
   "outputs": [
    {
     "data": {
      "text/plain": [
       "[4, 5, 7]"
      ]
     },
     "execution_count": 2,
     "metadata": {},
     "output_type": "execute_result"
    }
   ],
   "source": [
    "a = [3,4,3,5,7]\n",
    "list(filter(lambda x:x>3,a))"
   ]
  },
  {
   "cell_type": "markdown",
   "metadata": {},
   "source": [
    "filter用于过滤序列，通过传入的函数来依次判断序列中的一个元素是否是否还会留下。如果计算结果为True则保留，否则舍弃该元素"
   ]
  },
  {
   "cell_type": "code",
   "execution_count": 4,
   "metadata": {},
   "outputs": [
    {
     "data": {
      "text/plain": [
       "[4]"
      ]
     },
     "execution_count": 4,
     "metadata": {},
     "output_type": "execute_result"
    }
   ],
   "source": [
    "def if_even(x):\n",
    "    return x % 2 == 0\n",
    "\n",
    "list(filter(if_even, a))"
   ]
  },
  {
   "cell_type": "markdown",
   "metadata": {},
   "source": [
    "当function参数传入None时，序列中的元素值如果为False，也会自动舍弃。"
   ]
  },
  {
   "cell_type": "code",
   "execution_count": 5,
   "metadata": {},
   "outputs": [
    {
     "data": {
      "text/plain": [
       "['', False, 'I', {}]"
      ]
     },
     "execution_count": 5,
     "metadata": {},
     "output_type": "execute_result"
    }
   ],
   "source": [
    "c = ['',False,'I',{}] #定义序列\n",
    "c"
   ]
  },
  {
   "cell_type": "code",
   "execution_count": 7,
   "metadata": {},
   "outputs": [
    {
     "data": {
      "text/plain": [
       "['I']"
      ]
     },
     "execution_count": 7,
     "metadata": {},
     "output_type": "execute_result"
    }
   ],
   "source": [
    "list(filter(None,c)) #筛选函数为None，自动舍弃序列中的False值，空字符串"
   ]
  },
  {
   "cell_type": "markdown",
   "metadata": {},
   "source": [
    "# 21. class float([x])\n",
    "\n",
    "Return **a floating point number** constructed from **a number or string x**.\n",
    "\n",
    "**If the argument is a string, it should contain a decimal number**, optionally preceded by a sign, and optionally embedded in whitespace. The optional sign may be '+' or '-'; a '+' sign has no effect on the value produced. The argument may also be a string representing a NaN (not-a-number), or a positive or negative infinity. More precisely, the input must conform to the following grammar after leading and trailing whitespace characters are removed:\n",
    "\n",
    "1. sign           ::=  “+” | “-“\n",
    "2. infinity       ::=  “Infinity” | “inf”\n",
    "3. nan            ::=  “nan”\n",
    "4. numeric_value  ::=  floatnumber | infinity | nan\n",
    "5. numeric_string ::=  [sign] numeric_value\n",
    "\n",
    "Here floatnumber is the form of a Python floating-point literal, described in [Floating point literals](https://docs.python.org/3/reference/lexical_analysis.html#floating). Case is not significant, so, for example, “inf”, “Inf”, “INFINITY” and “iNfINity” are all acceptable spellings for positive infinity.\n",
    "\n",
    "Otherwise, if the argument is an integer or a floating point number, a floating point number with the same value (within Python’s floating point precision) is returned. If the argument is outside the range of a Python float, an OverflowError will be raised.\n",
    "\n",
    "For a general Python object x, float(x) delegates to x.\\__float\\__().\n",
    "\n",
    "If no argument is given, 0.0 is returned."
   ]
  },
  {
   "cell_type": "markdown",
   "metadata": {},
   "source": [
    "Note 1: Return a floating number constructed from a number or string x"
   ]
  },
  {
   "cell_type": "code",
   "execution_count": 10,
   "metadata": {},
   "outputs": [
    {
     "data": {
      "text/plain": [
       "3.0"
      ]
     },
     "execution_count": 10,
     "metadata": {},
     "output_type": "execute_result"
    }
   ],
   "source": [
    "float(3)"
   ]
  },
  {
   "cell_type": "code",
   "execution_count": 11,
   "metadata": {},
   "outputs": [
    {
     "data": {
      "text/plain": [
       "3.0"
      ]
     },
     "execution_count": 11,
     "metadata": {},
     "output_type": "execute_result"
    }
   ],
   "source": [
    "float('3')"
   ]
  },
  {
   "cell_type": "markdown",
   "metadata": {},
   "source": [
    "Note 2: If no argument is given, 0.0 is returned."
   ]
  },
  {
   "cell_type": "code",
   "execution_count": 12,
   "metadata": {},
   "outputs": [
    {
     "data": {
      "text/plain": [
       "0.0"
      ]
     },
     "execution_count": 12,
     "metadata": {},
     "output_type": "execute_result"
    }
   ],
   "source": [
    "x = float()\n",
    "x"
   ]
  },
  {
   "cell_type": "markdown",
   "metadata": {},
   "source": [
    "Note 3:String could be transformed into float. In other words, the format should be correct"
   ]
  },
  {
   "cell_type": "code",
   "execution_count": 13,
   "metadata": {},
   "outputs": [
    {
     "ename": "SyntaxError",
     "evalue": "invalid syntax (<ipython-input-13-7fbbf5bd0f7f>, line 1)",
     "output_type": "error",
     "traceback": [
      "\u001b[1;36m  File \u001b[1;32m\"<ipython-input-13-7fbbf5bd0f7f>\"\u001b[1;36m, line \u001b[1;32m1\u001b[0m\n\u001b[1;33m    float(3.15.489)\u001b[0m\n\u001b[1;37m                 ^\u001b[0m\n\u001b[1;31mSyntaxError\u001b[0m\u001b[1;31m:\u001b[0m invalid syntax\n"
     ]
    }
   ],
   "source": [
    "float(3.15.489)"
   ]
  },
  {
   "cell_type": "markdown",
   "metadata": {},
   "source": [
    "Note 4: '+' and '-' could also be given. No blank appear between these two signs"
   ]
  },
  {
   "cell_type": "code",
   "execution_count": 14,
   "metadata": {},
   "outputs": [
    {
     "data": {
      "text/plain": [
       "3.4"
      ]
     },
     "execution_count": 14,
     "metadata": {},
     "output_type": "execute_result"
    }
   ],
   "source": [
    "float(+3.4)"
   ]
  },
  {
   "cell_type": "code",
   "execution_count": 15,
   "metadata": {},
   "outputs": [
    {
     "data": {
      "text/plain": [
       "-3.4"
      ]
     },
     "execution_count": 15,
     "metadata": {},
     "output_type": "execute_result"
    }
   ],
   "source": [
    "float(-3.4)"
   ]
  },
  {
   "cell_type": "code",
   "execution_count": 16,
   "metadata": {},
   "outputs": [
    {
     "data": {
      "text/plain": [
       "-3.65"
      ]
     },
     "execution_count": 16,
     "metadata": {},
     "output_type": "execute_result"
    }
   ],
   "source": [
    "float(' -3.65 ')"
   ]
  },
  {
   "cell_type": "code",
   "execution_count": 17,
   "metadata": {},
   "outputs": [
    {
     "ename": "ValueError",
     "evalue": "could not convert string to float: '- 3.65'",
     "output_type": "error",
     "traceback": [
      "\u001b[1;31m---------------------------------------------------------------------------\u001b[0m",
      "\u001b[1;31mValueError\u001b[0m                                Traceback (most recent call last)",
      "\u001b[1;32m<ipython-input-17-b5db7d12ce8b>\u001b[0m in \u001b[0;36m<module>\u001b[1;34m()\u001b[0m\n\u001b[1;32m----> 1\u001b[1;33m \u001b[0mfloat\u001b[0m\u001b[1;33m(\u001b[0m\u001b[1;34m'- 3.65'\u001b[0m\u001b[1;33m)\u001b[0m\u001b[1;33m\u001b[0m\u001b[0m\n\u001b[0m",
      "\u001b[1;31mValueError\u001b[0m: could not convert string to float: '- 3.65'"
     ]
    }
   ],
   "source": [
    "float('- 3.65')"
   ]
  },
  {
   "cell_type": "markdown",
   "metadata": {},
   "source": [
    "Special strings like 'infinity' and 'nan' could be transformed into float. But remeber to follow the rules"
   ]
  },
  {
   "cell_type": "code",
   "execution_count": 19,
   "metadata": {},
   "outputs": [
    {
     "data": {
      "text/plain": [
       "-inf"
      ]
     },
     "execution_count": 19,
     "metadata": {},
     "output_type": "execute_result"
    }
   ],
   "source": [
    "float('-infinity')"
   ]
  },
  {
   "cell_type": "code",
   "execution_count": 21,
   "metadata": {},
   "outputs": [
    {
     "data": {
      "text/plain": [
       "nan"
      ]
     },
     "execution_count": 21,
     "metadata": {},
     "output_type": "execute_result"
    }
   ],
   "source": [
    "float('nan')"
   ]
  },
  {
   "cell_type": "markdown",
   "metadata": {},
   "source": [
    "If you want to transform the number created by class method, you should add \\_\\_float\\_\\_ in your class"
   ]
  },
  {
   "cell_type": "code",
   "execution_count": 22,
   "metadata": {},
   "outputs": [
    {
     "ename": "TypeError",
     "evalue": "float() argument must be a string or a number, not 'X'",
     "output_type": "error",
     "traceback": [
      "\u001b[1;31m---------------------------------------------------------------------------\u001b[0m",
      "\u001b[1;31mTypeError\u001b[0m                                 Traceback (most recent call last)",
      "\u001b[1;32m<ipython-input-22-db5c05898559>\u001b[0m in \u001b[0;36m<module>\u001b[1;34m()\u001b[0m\n\u001b[0;32m      5\u001b[0m \u001b[1;33m\u001b[0m\u001b[0m\n\u001b[0;32m      6\u001b[0m \u001b[0mx\u001b[0m \u001b[1;33m=\u001b[0m \u001b[0mX\u001b[0m\u001b[1;33m(\u001b[0m\u001b[1;36m93.3\u001b[0m\u001b[1;33m)\u001b[0m\u001b[1;33m\u001b[0m\u001b[0m\n\u001b[1;32m----> 7\u001b[1;33m \u001b[0mfloat\u001b[0m\u001b[1;33m(\u001b[0m\u001b[0mx\u001b[0m\u001b[1;33m)\u001b[0m\u001b[1;33m\u001b[0m\u001b[0m\n\u001b[0m",
      "\u001b[1;31mTypeError\u001b[0m: float() argument must be a string or a number, not 'X'"
     ]
    }
   ],
   "source": [
    "class X:\n",
    "    \n",
    "    def __init__(self,score):\n",
    "        self.score = score\n",
    "        \n",
    "x = X(93.3)\n",
    "float(x)"
   ]
  },
  {
   "cell_type": "code",
   "execution_count": 29,
   "metadata": {},
   "outputs": [
    {
     "data": {
      "text/plain": [
       "9.3"
      ]
     },
     "execution_count": 29,
     "metadata": {},
     "output_type": "execute_result"
    }
   ],
   "source": [
    "class X:\n",
    "    def __init__(self, score):\n",
    "        self.score = score\n",
    "        \n",
    "    def __float__(self):\n",
    "        return self.score\n",
    "        \n",
    "x = X(9.3)\n",
    "float(x)"
   ]
  },
  {
   "cell_type": "markdown",
   "metadata": {
    "collapsed": true
   },
   "source": [
    "# 22. format(value[, format_spec])\n",
    "\n",
    "Convert a value to a “formatted” representation, as controlled by **format_spec**. The interpretation of format_spec will depend on the type of the value argument, however there is a standard formatting syntax that is used by most built-in types: [Format Specification Mini-Language](https://docs.python.org/3/library/string.html#formatspec).\n",
    "\n",
    "The default format_spec is an empty string which usually gives the same effect as calling str(value).\n",
    "\n",
    "A call to format(value, format_spec) is translated to type(value).\\__format\\__(value, format_spec) which bypasses the instance dictionary when searching for the value’s \\__format\\__() method. A TypeError exception is raised if the method search reaches object and the format_spec is non-empty, or if either the format_spec or the return value are not strings.\n",
    "\n",
    "Changed in version 3.4: object().\\__format\\__(format_spec) raises TypeError if format_spec is not an empty string."
   ]
  },
  {
   "cell_type": "code",
   "execution_count": 1,
   "metadata": {},
   "outputs": [
    {
     "name": "stdout",
     "output_type": "stream",
     "text": [
      "You are great!\n"
     ]
    }
   ],
   "source": [
    "print(\"{} are great!\".format('You'))"
   ]
  },
  {
   "cell_type": "markdown",
   "metadata": {},
   "source": [
    "If format_spec is not given, format function works like str(value)"
   ]
  },
  {
   "cell_type": "code",
   "execution_count": 2,
   "metadata": {},
   "outputs": [
    {
     "data": {
      "text/plain": [
       "'3.14587'"
      ]
     },
     "execution_count": 2,
     "metadata": {},
     "output_type": "execute_result"
    }
   ],
   "source": [
    "format(3.14587)"
   ]
  },
  {
   "cell_type": "markdown",
   "metadata": {},
   "source": [
    "For different types of given values, you could use various **format_spec** and it would return different values.\n",
    "\n",
    "For the strings, you can put 's' or None to format_spec"
   ]
  },
  {
   "cell_type": "code",
   "execution_count": 4,
   "metadata": {},
   "outputs": [
    {
     "data": {
      "text/plain": [
       "'Some string'"
      ]
     },
     "execution_count": 4,
     "metadata": {},
     "output_type": "execute_result"
    }
   ],
   "source": [
    "format('Some string','s')"
   ]
  },
  {
   "cell_type": "code",
   "execution_count": 5,
   "metadata": {},
   "outputs": [
    {
     "data": {
      "text/plain": [
       "'Some string'"
      ]
     },
     "execution_count": 5,
     "metadata": {},
     "output_type": "execute_result"
    }
   ],
   "source": [
    "format('Some string')"
   ]
  },
  {
   "cell_type": "markdown",
   "metadata": {},
   "source": [
    "For integers, you can use 'b' 'c' 'd' 'o' 'x' 'X' 'n' and None as format_spec"
   ]
  },
  {
   "cell_type": "code",
   "execution_count": 9,
   "metadata": {},
   "outputs": [
    {
     "data": {
      "text/plain": [
       "'100100'"
      ]
     },
     "execution_count": 9,
     "metadata": {},
     "output_type": "execute_result"
    }
   ],
   "source": [
    "format(36,'b') # transform to binary number"
   ]
  },
  {
   "cell_type": "code",
   "execution_count": 10,
   "metadata": {},
   "outputs": [
    {
     "data": {
      "text/plain": [
       "'a'"
      ]
     },
     "execution_count": 10,
     "metadata": {},
     "output_type": "execute_result"
    }
   ],
   "source": [
    "format(97,'c') # transform to unicode"
   ]
  },
  {
   "cell_type": "code",
   "execution_count": 11,
   "metadata": {},
   "outputs": [
    {
     "data": {
      "text/plain": [
       "'11'"
      ]
     },
     "execution_count": 11,
     "metadata": {},
     "output_type": "execute_result"
    }
   ],
   "source": [
    "format(11,'d') # transform to decimal number"
   ]
  },
  {
   "cell_type": "code",
   "execution_count": 12,
   "metadata": {},
   "outputs": [
    {
     "data": {
      "text/plain": [
       "'13'"
      ]
     },
     "execution_count": 12,
     "metadata": {},
     "output_type": "execute_result"
    }
   ],
   "source": [
    "format(11,'o') # transfrom to octal number"
   ]
  },
  {
   "cell_type": "code",
   "execution_count": 15,
   "metadata": {},
   "outputs": [
    {
     "data": {
      "text/plain": [
       "'B'"
      ]
     },
     "execution_count": 15,
     "metadata": {},
     "output_type": "execute_result"
    }
   ],
   "source": [
    "format(11,'X') # transform to hexadecimal number, in big letters"
   ]
  },
  {
   "cell_type": "code",
   "execution_count": 16,
   "metadata": {},
   "outputs": [
    {
     "data": {
      "text/plain": [
       "'b'"
      ]
     },
     "execution_count": 16,
     "metadata": {},
     "output_type": "execute_result"
    }
   ],
   "source": [
    "format(11,'x') # transform to hexadecimal number, in small letters"
   ]
  },
  {
   "cell_type": "code",
   "execution_count": 19,
   "metadata": {},
   "outputs": [
    {
     "data": {
      "text/plain": [
       "'11'"
      ]
     },
     "execution_count": 19,
     "metadata": {},
     "output_type": "execute_result"
    }
   ],
   "source": [
    "format(11)"
   ]
  },
  {
   "cell_type": "markdown",
   "metadata": {},
   "source": [
    "For the float number, the format_spec can be 'e' 'E' 'f' 'F' 'g' 'G' 'n' '%' None"
   ]
  },
  {
   "cell_type": "code",
   "execution_count": 21,
   "metadata": {},
   "outputs": [
    {
     "data": {
      "text/plain": [
       "'3.141593e+00'"
      ]
     },
     "execution_count": 21,
     "metadata": {},
     "output_type": "execute_result"
    }
   ],
   "source": [
    "format(3.14159265358,'e') # show 6 decimals in scientific notation"
   ]
  },
  {
   "cell_type": "code",
   "execution_count": 22,
   "metadata": {},
   "outputs": [
    {
     "data": {
      "text/plain": [
       "'3.14e+08'"
      ]
     },
     "execution_count": 22,
     "metadata": {},
     "output_type": "execute_result"
    }
   ],
   "source": [
    "format(314159267,'0.2e') # two decimals in scientific notation"
   ]
  },
  {
   "cell_type": "code",
   "execution_count": 23,
   "metadata": {},
   "outputs": [
    {
     "data": {
      "text/plain": [
       "'3.14E+08'"
      ]
     },
     "execution_count": 23,
     "metadata": {},
     "output_type": "execute_result"
    }
   ],
   "source": [
    "format(314159267,'0.2E') # two decimals in scientific notation, but with big letter E"
   ]
  },
  {
   "cell_type": "code",
   "execution_count": 24,
   "metadata": {},
   "outputs": [
    {
     "data": {
      "text/plain": [
       "'314159267.000000'"
      ]
     },
     "execution_count": 24,
     "metadata": {},
     "output_type": "execute_result"
    }
   ],
   "source": [
    "format(314159267,'f') # 6 decimals"
   ]
  },
  {
   "cell_type": "code",
   "execution_count": 25,
   "metadata": {},
   "outputs": [
    {
     "data": {
      "text/plain": [
       "'3.141593'"
      ]
     },
     "execution_count": 25,
     "metadata": {},
     "output_type": "execute_result"
    }
   ],
   "source": [
    "format(3.14159265358,'f') # 6 decimals"
   ]
  },
  {
   "cell_type": "code",
   "execution_count": 29,
   "metadata": {},
   "outputs": [
    {
     "data": {
      "text/plain": [
       "'3.14159267'"
      ]
     },
     "execution_count": 29,
     "metadata": {},
     "output_type": "execute_result"
    }
   ],
   "source": [
    "format(3.14159267000,'0.8f') #8 decimals"
   ]
  },
  {
   "cell_type": "code",
   "execution_count": 31,
   "metadata": {},
   "outputs": [
    {
     "data": {
      "text/plain": [
       "'3.1415926700'"
      ]
     },
     "execution_count": 31,
     "metadata": {},
     "output_type": "execute_result"
    }
   ],
   "source": [
    "format(3.14159267000,'0.10f') # 10 decimals"
   ]
  },
  {
   "cell_type": "code",
   "execution_count": 34,
   "metadata": {},
   "outputs": [
    {
     "data": {
      "text/plain": [
       "'INF'"
      ]
     },
     "execution_count": 34,
     "metadata": {},
     "output_type": "execute_result"
    }
   ],
   "source": [
    "format(3.14e+1000000,'F')  #小数点计数法，无穷大转换成大小字母"
   ]
  },
  {
   "cell_type": "markdown",
   "metadata": {},
   "source": [
    "g的格式化比较特殊，假设p为格式中指定的保留小数位数，先尝试采用科学计数法格式化，得到幂指数exp，如果-4<=exp<p，则采用小数计数法，并保留p-1-exp位小数，否则按小数计数法计数，并按p-1保留小数位数"
   ]
  },
  {
   "cell_type": "code",
   "execution_count": 35,
   "metadata": {},
   "outputs": [
    {
     "data": {
      "text/plain": [
       "'3e-05'"
      ]
     },
     "execution_count": 35,
     "metadata": {},
     "output_type": "execute_result"
    }
   ],
   "source": [
    "format(0.00003141566,'.1g')"
   ]
  },
  {
   "cell_type": "code",
   "execution_count": 41,
   "metadata": {},
   "outputs": [
    {
     "data": {
      "text/plain": [
       "'3.2e-05'"
      ]
     },
     "execution_count": 41,
     "metadata": {},
     "output_type": "execute_result"
    }
   ],
   "source": [
    "format(0.000032385,'.2g')"
   ]
  },
  {
   "cell_type": "code",
   "execution_count": 52,
   "metadata": {},
   "outputs": [
    {
     "data": {
      "text/plain": [
       "'0.003598632'"
      ]
     },
     "execution_count": 52,
     "metadata": {},
     "output_type": "execute_result"
    }
   ],
   "source": [
    "format(0.003598632,'.15g')"
   ]
  },
  {
   "cell_type": "markdown",
   "metadata": {
    "collapsed": true
   },
   "source": [
    "# 23. class frozenset([iterable])\n",
    "\n",
    "Return a new frozenset object, optionally with elements taken from iterable. frozenset is a built-in class.\n",
    "\n",
    "Because of its immutable property, it can be used as a dictionary's key"
   ]
  },
  {
   "cell_type": "markdown",
   "metadata": {},
   "source": [
    "Insert an iterable object and return a immutable set"
   ]
  },
  {
   "cell_type": "code",
   "execution_count": 2,
   "metadata": {},
   "outputs": [
    {
     "data": {
      "text/plain": [
       "frozenset({0, 1, 2, 3, 4, 5, 6, 7, 8, 9})"
      ]
     },
     "execution_count": 2,
     "metadata": {},
     "output_type": "execute_result"
    }
   ],
   "source": [
    "a = frozenset(range(10))\n",
    "a"
   ]
  },
  {
   "cell_type": "markdown",
   "metadata": {},
   "source": [
    "If nothing is added, just return a frozenset which is not changeable."
   ]
  },
  {
   "cell_type": "code",
   "execution_count": 3,
   "metadata": {},
   "outputs": [
    {
     "data": {
      "text/plain": [
       "frozenset()"
      ]
     },
     "execution_count": 3,
     "metadata": {},
     "output_type": "execute_result"
    }
   ],
   "source": [
    "c = frozenset()\n",
    "c"
   ]
  },
  {
   "cell_type": "markdown",
   "metadata": {},
   "source": [
    "frozenset can be used as dictionary key"
   ]
  },
  {
   "cell_type": "code",
   "execution_count": 11,
   "metadata": {
    "collapsed": true
   },
   "outputs": [],
   "source": [
    "a = {frozenset(range(90,101)):'Distinction',frozenset(range(80,90)):'Merit',frozenset(range(70,80)):'Good',\n",
    "     frozenset(range(60,70)):'Pass',frozenset(range(60)):'Failed'}"
   ]
  },
  {
   "cell_type": "markdown",
   "metadata": {},
   "source": [
    "# 24. getattr(object, name[, default])\n",
    "\n",
    "Return the value of the named attribute of object. name must be a string. If the string is the name of one of the object’s attributes, the result is the value of that attribute. For example, getattr(x, 'foobar') is equivalent to x.foobar. If the named attribute does not exist, default is returned if provided, otherwise AttributeError is raised."
   ]
  },
  {
   "cell_type": "code",
   "execution_count": 19,
   "metadata": {},
   "outputs": [
    {
     "data": {
      "text/plain": [
       "'dog'"
      ]
     },
     "execution_count": 19,
     "metadata": {},
     "output_type": "execute_result"
    }
   ],
   "source": [
    "class animal(object):\n",
    "    def __init__(self,name):\n",
    "        self.name = name\n",
    "        \n",
    "    def bark(self,string):\n",
    "        if self.name == 'dog':\n",
    "            return string\n",
    "        else:\n",
    "            pass\n",
    "        \n",
    "animal1 = animal('dog')\n",
    "getattr(animal1,'name') # it equivalents to animal1.name"
   ]
  },
  {
   "cell_type": "markdown",
   "metadata": {},
   "source": [
    "The third attribute of this function is a default value. "
   ]
  },
  {
   "cell_type": "code",
   "execution_count": 20,
   "metadata": {},
   "outputs": [
    {
     "data": {
      "text/plain": [
       "'dog'"
      ]
     },
     "execution_count": 20,
     "metadata": {},
     "output_type": "execute_result"
    }
   ],
   "source": [
    "getattr(animal1,'name')"
   ]
  },
  {
   "cell_type": "code",
   "execution_count": 21,
   "metadata": {},
   "outputs": [
    {
     "data": {
      "text/plain": [
       "'5kg'"
      ]
     },
     "execution_count": 21,
     "metadata": {},
     "output_type": "execute_result"
    }
   ],
   "source": [
    "getattr(animal1,'weight','5kg')"
   ]
  },
  {
   "cell_type": "code",
   "execution_count": 22,
   "metadata": {},
   "outputs": [
    {
     "ename": "AttributeError",
     "evalue": "'animal' object has no attribute 'weight'",
     "output_type": "error",
     "traceback": [
      "\u001b[1;31m---------------------------------------------------------------------------\u001b[0m",
      "\u001b[1;31mAttributeError\u001b[0m                            Traceback (most recent call last)",
      "\u001b[1;32m<ipython-input-22-1ff3d835950e>\u001b[0m in \u001b[0;36m<module>\u001b[1;34m()\u001b[0m\n\u001b[1;32m----> 1\u001b[1;33m \u001b[0mgetattr\u001b[0m\u001b[1;33m(\u001b[0m\u001b[0manimal1\u001b[0m\u001b[1;33m,\u001b[0m \u001b[1;34m'weight'\u001b[0m\u001b[1;33m)\u001b[0m\u001b[1;33m\u001b[0m\u001b[0m\n\u001b[0m",
      "\u001b[1;31mAttributeError\u001b[0m: 'animal' object has no attribute 'weight'"
     ]
    }
   ],
   "source": [
    "getattr(animal1, 'weight')"
   ]
  },
  {
   "cell_type": "markdown",
   "metadata": {},
   "source": [
    "# 25. globals()\n",
    "\n",
    "Return a dictionary representing the current global symbol table. This is always the dictionary of the current module (inside a function or method, this is the module where it is defined, not the module from which it is called)."
   ]
  },
  {
   "cell_type": "code",
   "execution_count": null,
   "metadata": {
    "collapsed": true
   },
   "outputs": [],
   "source": [
    "globals()"
   ]
  },
  {
   "cell_type": "markdown",
   "metadata": {
    "collapsed": true
   },
   "source": [
    "# 26. hasattr(object, name)\n",
    "\n",
    "The arguments are an object and a string. The result is True if the string is the name of one of the object’s attributes, False if not. (This is implemented by calling getattr(object, name) and seeing whether it raises an AttributeError or not.)"
   ]
  },
  {
   "cell_type": "code",
   "execution_count": 1,
   "metadata": {},
   "outputs": [
    {
     "data": {
      "text/plain": [
       "True"
      ]
     },
     "execution_count": 1,
     "metadata": {},
     "output_type": "execute_result"
    }
   ],
   "source": [
    "class animal(object):\n",
    "    def __init__(self,name):\n",
    "        self.name = name\n",
    "        \n",
    "    def bark(self,string):\n",
    "        if self.name == 'dog':\n",
    "            return string\n",
    "        else:\n",
    "            pass\n",
    "        \n",
    "animal1 = animal('dog')\n",
    "hasattr(animal1, 'name')"
   ]
  },
  {
   "cell_type": "markdown",
   "metadata": {},
   "source": [
    "# 27. hash(object)\n",
    "\n",
    "Return the **hash value** of the object (if it has one). Hash values are integers. They are used to quickly compare dictionary keys during a dictionary lookup. Numeric values that compare equal have the same hash value (even if they are of different types, as is the case for 1 and 1.0)."
   ]
  },
  {
   "cell_type": "code",
   "execution_count": 5,
   "metadata": {},
   "outputs": [
    {
     "data": {
      "text/plain": [
       "-2554704897911572240"
      ]
     },
     "execution_count": 5,
     "metadata": {},
     "output_type": "execute_result"
    }
   ],
   "source": [
    "hash('CR7')"
   ]
  },
  {
   "cell_type": "code",
   "execution_count": 6,
   "metadata": {},
   "outputs": [
    {
     "data": {
      "text/plain": [
       "1"
      ]
     },
     "execution_count": 6,
     "metadata": {},
     "output_type": "execute_result"
    }
   ],
   "source": [
    "hash(1.0)"
   ]
  },
  {
   "cell_type": "code",
   "execution_count": 11,
   "metadata": {},
   "outputs": [
    {
     "data": {
      "text/plain": [
       "1"
      ]
     },
     "execution_count": 11,
     "metadata": {},
     "output_type": "execute_result"
    }
   ],
   "source": [
    "hash(1)"
   ]
  },
  {
   "cell_type": "markdown",
   "metadata": {},
   "source": [
    "# 28. help([object])\n",
    "\n",
    "Invoke the built-in help system. (This function is intended for interactive use.) If no argument is given, the interactive help system starts on the interpreter console. If the argument is a string, then the string is looked up as the name of a module, function, class, method, keyword, or documentation topic, and a help page is printed on the console. If the argument is any other kind of object, a help page on the object is generated.\n",
    "\n",
    "This function is added to the built-in namespace by the site module.\n",
    "\n",
    "You can directly use help() to get the document of a module, class or method you want to know."
   ]
  },
  {
   "cell_type": "code",
   "execution_count": 1,
   "metadata": {},
   "outputs": [
    {
     "name": "stdout",
     "output_type": "stream",
     "text": [
      "\n",
      "Welcome to Python 3.5's help utility!\n",
      "\n",
      "If this is your first time using Python, you should definitely check out\n",
      "the tutorial on the Internet at http://docs.python.org/3.5/tutorial/.\n",
      "\n",
      "Enter the name of any module, keyword, or topic to get help on writing\n",
      "Python programs and using Python modules.  To quit this help utility and\n",
      "return to the interpreter, just type \"quit\".\n",
      "\n",
      "To get a list of available modules, keywords, symbols, or topics, type\n",
      "\"modules\", \"keywords\", \"symbols\", or \"topics\".  Each module also comes\n",
      "with a one-line summary of what it does; to list the modules whose name\n",
      "or summary contain a given string such as \"spam\", type \"modules spam\".\n",
      "\n",
      "help> tensorflow\n",
      "Help on package tensorflow:\n",
      "\n",
      "NAME\n",
      "    tensorflow\n",
      "\n",
      "DESCRIPTION\n",
      "    # Copyright 2015 The TensorFlow Authors. All Rights Reserved.\n",
      "    #\n",
      "    # Licensed under the Apache License, Version 2.0 (the \"License\");\n",
      "    # you may not use this file except in compliance with the License.\n",
      "    # You may obtain a copy of the License at\n",
      "    #\n",
      "    #     http://www.apache.org/licenses/LICENSE-2.0\n",
      "    #\n",
      "    # Unless required by applicable law or agreed to in writing, software\n",
      "    # distributed under the License is distributed on an \"AS IS\" BASIS,\n",
      "    # WITHOUT WARRANTIES OR CONDITIONS OF ANY KIND, either express or implied.\n",
      "    # See the License for the specific language governing permissions and\n",
      "    # limitations under the License.\n",
      "    # ==============================================================================\n",
      "\n",
      "PACKAGE CONTENTS\n",
      "    contrib (package)\n",
      "    core (package)\n",
      "    examples (package)\n",
      "    python (package)\n",
      "    tensorboard (package)\n",
      "\n",
      "SUBMODULES\n",
      "    app\n",
      "    compat\n",
      "    errors\n",
      "    estimator\n",
      "    feature_column\n",
      "    flags\n",
      "    gfile\n",
      "    graph_util\n",
      "    image\n",
      "    layers\n",
      "    logging\n",
      "    losses\n",
      "    metrics\n",
      "    nn\n",
      "    python_io\n",
      "    pywrap_tensorflow\n",
      "    resource_loader\n",
      "    saved_model\n",
      "    sets\n",
      "    spectral\n",
      "    summary\n",
      "    sysconfig\n",
      "    test\n",
      "    train\n",
      "    user_ops\n",
      "\n",
      "DATA\n",
      "    COMPILER_VERSION = 'MSVC'\n",
      "    GIT_VERSION = \"b'unknown'\"\n",
      "    GRAPH_DEF_VERSION = 22\n",
      "    GRAPH_DEF_VERSION_MIN_CONSUMER = 0\n",
      "    GRAPH_DEF_VERSION_MIN_PRODUCER = 0\n",
      "    QUANTIZED_DTYPES = frozenset({tf.qint8, tf.quint8, tf.qint32, tf.qint8...\n",
      "    VERSION = '1.2.1'\n",
      "    __compiler_version__ = 'MSVC'\n",
      "    __git_version__ = \"b'unknown'\"\n",
      "    bfloat16 = tf.bfloat16\n",
      "    bool = tf.bool\n",
      "    complex128 = tf.complex128\n",
      "    complex64 = tf.complex64\n",
      "    double = tf.float64\n",
      "    float16 = tf.float16\n",
      "    float32 = tf.float32\n",
      "    float64 = tf.float64\n",
      "    half = tf.float16\n",
      "    int16 = tf.int16\n",
      "    int32 = tf.int32\n",
      "    int64 = tf.int64\n",
      "    int8 = tf.int8\n",
      "    newaxis = None\n",
      "    qint16 = tf.qint16\n",
      "    qint32 = tf.qint32\n",
      "    qint8 = tf.qint8\n",
      "    quint16 = tf.quint16\n",
      "    quint8 = tf.quint8\n",
      "    resource = tf.resource\n",
      "    string = tf.string\n",
      "    uint16 = tf.uint16\n",
      "    uint8 = tf.uint8\n",
      "\n",
      "VERSION\n",
      "    1.2.1\n",
      "\n",
      "FILE\n",
      "    f:\\python\\lib\\site-packages\\tensorflow\\__init__.py\n",
      "\n",
      "\n",
      "help> quit\n",
      "\n",
      "You are now leaving help and returning to the Python interpreter.\n",
      "If you want to ask for help on a particular object directly from the\n",
      "interpreter, you can type \"help(object)\".  Executing \"help('string')\"\n",
      "has the same effect as typing a particular string at the help> prompt.\n"
     ]
    }
   ],
   "source": [
    "help()"
   ]
  },
  {
   "cell_type": "markdown",
   "metadata": {
    "collapsed": true
   },
   "source": [
    "# 29. hex(x)\n",
    "\n",
    "Convert an integer number to a lowercase hexadecimal string prefixed with “0x”. If x is not a Python int object, it has to define an __index__() method that returns an integer. Some examples:"
   ]
  },
  {
   "cell_type": "code",
   "execution_count": 3,
   "metadata": {},
   "outputs": [
    {
     "data": {
      "text/plain": [
       "'0xf'"
      ]
     },
     "execution_count": 3,
     "metadata": {},
     "output_type": "execute_result"
    }
   ],
   "source": [
    "hex(15)"
   ]
  },
  {
   "cell_type": "code",
   "execution_count": 5,
   "metadata": {},
   "outputs": [
    {
     "data": {
      "text/plain": [
       "'-0x14'"
      ]
     },
     "execution_count": 5,
     "metadata": {},
     "output_type": "execute_result"
    }
   ],
   "source": [
    "hex(-20)"
   ]
  },
  {
   "cell_type": "code",
   "execution_count": 6,
   "metadata": {},
   "outputs": [
    {
     "data": {
      "text/plain": [
       "('0xff', 'ff', 'FF')"
      ]
     },
     "execution_count": 6,
     "metadata": {},
     "output_type": "execute_result"
    }
   ],
   "source": [
    "'%#x' % 255, '%x' % 255, '%X' % 255"
   ]
  },
  {
   "cell_type": "markdown",
   "metadata": {},
   "source": [
    "If x is not an integer, then we should name a function called '__index__' and the value it returned should be an integer."
   ]
  },
  {
   "cell_type": "code",
   "execution_count": 12,
   "metadata": {},
   "outputs": [
    {
     "ename": "TypeError",
     "evalue": "'student' object cannot be interpreted as an integer",
     "output_type": "error",
     "traceback": [
      "\u001b[1;31m---------------------------------------------------------------------------\u001b[0m",
      "\u001b[1;31mTypeError\u001b[0m                                 Traceback (most recent call last)",
      "\u001b[1;32m<ipython-input-12-ad2e15e48127>\u001b[0m in \u001b[0;36m<module>\u001b[1;34m()\u001b[0m\n\u001b[0;32m      5\u001b[0m \u001b[1;33m\u001b[0m\u001b[0m\n\u001b[0;32m      6\u001b[0m \u001b[0ms\u001b[0m \u001b[1;33m=\u001b[0m \u001b[0mstudent\u001b[0m\u001b[1;33m(\u001b[0m\u001b[1;34m'Bright'\u001b[0m\u001b[1;33m,\u001b[0m\u001b[1;36m24\u001b[0m\u001b[1;33m)\u001b[0m\u001b[1;33m\u001b[0m\u001b[0m\n\u001b[1;32m----> 7\u001b[1;33m \u001b[0mhex\u001b[0m\u001b[1;33m(\u001b[0m\u001b[0ms\u001b[0m\u001b[1;33m)\u001b[0m\u001b[1;33m\u001b[0m\u001b[0m\n\u001b[0m",
      "\u001b[1;31mTypeError\u001b[0m: 'student' object cannot be interpreted as an integer"
     ]
    }
   ],
   "source": [
    "class student:\n",
    "    def __init__(self, name, age):\n",
    "        self.name = name\n",
    "        self.age = age\n",
    "        \n",
    "s = student('Bright',24)\n",
    "hex(s)"
   ]
  },
  {
   "cell_type": "code",
   "execution_count": 15,
   "metadata": {},
   "outputs": [
    {
     "data": {
      "text/plain": [
       "'0x18'"
      ]
     },
     "execution_count": 15,
     "metadata": {},
     "output_type": "execute_result"
    }
   ],
   "source": [
    "class Student:\n",
    "    def __init__(self,name,age):\n",
    "        self.name = name\n",
    "        self.age = age\n",
    "    def __index__(self):\n",
    "        return self.age\n",
    "\n",
    "s = Student('Bright',24)\n",
    "hex(s)"
   ]
  },
  {
   "cell_type": "markdown",
   "metadata": {},
   "source": [
    "# 30. id(object)\n",
    "\n",
    "Return the “identity” of an object. This is an integer which is guaranteed to be unique and constant for this object during its lifetime. Two objects with non-overlapping lifetimes may have the same id() value."
   ]
  },
  {
   "cell_type": "code",
   "execution_count": 16,
   "metadata": {},
   "outputs": [
    {
     "data": {
      "text/plain": [
       "1848246736"
      ]
     },
     "execution_count": 16,
     "metadata": {},
     "output_type": "execute_result"
    }
   ],
   "source": [
    "id(1)"
   ]
  },
  {
   "cell_type": "code",
   "execution_count": 18,
   "metadata": {},
   "outputs": [
    {
     "data": {
      "text/plain": [
       "1965428366264"
      ]
     },
     "execution_count": 18,
     "metadata": {},
     "output_type": "execute_result"
    }
   ],
   "source": [
    "class Student:\n",
    "    def __init__(self,name,age):\n",
    "        self.name = name\n",
    "        self.age = age\n",
    "    def __index__(self):\n",
    "        return self.age\n",
    "\n",
    "id(Student)"
   ]
  },
  {
   "cell_type": "code",
   "execution_count": 19,
   "metadata": {},
   "outputs": [
    {
     "data": {
      "text/plain": [
       "1965367383816"
      ]
     },
     "execution_count": 19,
     "metadata": {},
     "output_type": "execute_result"
    }
   ],
   "source": [
    "import numpy as np\n",
    "\n",
    "id(np.arange)"
   ]
  },
  {
   "cell_type": "markdown",
   "metadata": {
    "collapsed": true
   },
   "source": [
    "# 31. input([prompt])\n",
    "\n",
    "If the prompt argument is present, it is written to standard output without a trailing newline. The function then reads a line from input, converts it to a string (stripping a trailing newline), and returns that. When EOF is read, EOFError is raised. "
   ]
  },
  {
   "cell_type": "code",
   "execution_count": 1,
   "metadata": {},
   "outputs": [
    {
     "name": "stdout",
     "output_type": "stream",
     "text": [
      "Input a number:5\n"
     ]
    }
   ],
   "source": [
    "s = input('Input a number:')"
   ]
  },
  {
   "cell_type": "code",
   "execution_count": 2,
   "metadata": {},
   "outputs": [
    {
     "data": {
      "text/plain": [
       "'5'"
      ]
     },
     "execution_count": 2,
     "metadata": {},
     "output_type": "execute_result"
    }
   ],
   "source": [
    "s"
   ]
  },
  {
   "cell_type": "markdown",
   "metadata": {},
   "source": [
    "# 32. class int(x=0) class int(x, base=10)\n",
    "\n",
    "Return an integer object constructed from a number or string x, or return 0 if no arguments are given. If x is a number, return x.\\__int\\__(). For floating point numbers, this truncates towards zero.\n",
    "\n",
    "If x is not a number or if base is given, then x must be a **string, bytes, or bytearray instance** representing an integer literal in radix base. Optionally, the literal can be preceded by + or - (with no space in between) and surrounded by whitespace. A base-n literal consists of the digits 0 to n-1, with a to z (or A to Z) having values 10 to 35. The default base is 10. The allowed values are 0 and 2–36. Base-2, -8, and -16 literals can be optionally prefixed with 0b/0B, 0o/0O, or 0x/0X, as with integer literals in code. Base 0 means to interpret exactly as a code literal, so that the actual base is 2, 8, 10, or 16, and so that int('010', 0) is not legal, while int('010') is, as well as int('010', 8).\n",
    "\n",
    "The integer type is described in Numeric Types — int, float, complex."
   ]
  },
  {
   "cell_type": "code",
   "execution_count": 7,
   "metadata": {},
   "outputs": [
    {
     "data": {
      "text/plain": [
       "0"
      ]
     },
     "execution_count": 7,
     "metadata": {},
     "output_type": "execute_result"
    }
   ],
   "source": [
    "int()"
   ]
  },
  {
   "cell_type": "code",
   "execution_count": 9,
   "metadata": {},
   "outputs": [
    {
     "data": {
      "text/plain": [
       "3"
      ]
     },
     "execution_count": 9,
     "metadata": {},
     "output_type": "execute_result"
    }
   ],
   "source": [
    "int(3.9)"
   ]
  },
  {
   "cell_type": "markdown",
   "metadata": {},
   "source": [
    "If x is a string(x must a integer), transfer the string to decimal numbers"
   ]
  },
  {
   "cell_type": "code",
   "execution_count": 11,
   "metadata": {},
   "outputs": [
    {
     "data": {
      "text/plain": [
       "36"
      ]
     },
     "execution_count": 11,
     "metadata": {},
     "output_type": "execute_result"
    }
   ],
   "source": [
    "int('36')"
   ]
  },
  {
   "cell_type": "code",
   "execution_count": 12,
   "metadata": {},
   "outputs": [
    {
     "ename": "ValueError",
     "evalue": "invalid literal for int() with base 10: '3.6'",
     "output_type": "error",
     "traceback": [
      "\u001b[1;31m---------------------------------------------------------------------------\u001b[0m",
      "\u001b[1;31mValueError\u001b[0m                                Traceback (most recent call last)",
      "\u001b[1;32m<ipython-input-12-fcc1cfb58498>\u001b[0m in \u001b[0;36m<module>\u001b[1;34m()\u001b[0m\n\u001b[1;32m----> 1\u001b[1;33m \u001b[0mint\u001b[0m\u001b[1;33m(\u001b[0m\u001b[1;34m'3.6'\u001b[0m\u001b[1;33m)\u001b[0m\u001b[1;33m\u001b[0m\u001b[0m\n\u001b[0m",
      "\u001b[1;31mValueError\u001b[0m: invalid literal for int() with base 10: '3.6'"
     ]
    }
   ],
   "source": [
    "int('3.6')"
   ]
  },
  {
   "cell_type": "code",
   "execution_count": 13,
   "metadata": {},
   "outputs": [
    {
     "data": {
      "text/plain": [
       "2"
      ]
     },
     "execution_count": 13,
     "metadata": {},
     "output_type": "execute_result"
    }
   ],
   "source": [
    "int('10',base = 2)"
   ]
  },
  {
   "cell_type": "markdown",
   "metadata": {},
   "source": [
    "The x can inclue '+' or '-' but number shoule closely follow the sign."
   ]
  },
  {
   "cell_type": "code",
   "execution_count": 14,
   "metadata": {},
   "outputs": [
    {
     "data": {
      "text/plain": [
       "36"
      ]
     },
     "execution_count": 14,
     "metadata": {},
     "output_type": "execute_result"
    }
   ],
   "source": [
    "int('+36')"
   ]
  },
  {
   "cell_type": "code",
   "execution_count": 15,
   "metadata": {},
   "outputs": [
    {
     "data": {
      "text/plain": [
       "-32"
      ]
     },
     "execution_count": 15,
     "metadata": {},
     "output_type": "execute_result"
    }
   ],
   "source": [
    "int('  -32  ')"
   ]
  },
  {
   "cell_type": "code",
   "execution_count": 17,
   "metadata": {},
   "outputs": [
    {
     "ename": "ValueError",
     "evalue": "invalid literal for int() with base 10: ' - 32 '",
     "output_type": "error",
     "traceback": [
      "\u001b[1;31m---------------------------------------------------------------------------\u001b[0m",
      "\u001b[1;31mValueError\u001b[0m                                Traceback (most recent call last)",
      "\u001b[1;32m<ipython-input-17-d59cc38c2298>\u001b[0m in \u001b[0;36m<module>\u001b[1;34m()\u001b[0m\n\u001b[1;32m----> 1\u001b[1;33m \u001b[0mint\u001b[0m\u001b[1;33m(\u001b[0m\u001b[1;34m' - 32 '\u001b[0m\u001b[1;33m)\u001b[0m\u001b[1;33m\u001b[0m\u001b[0m\n\u001b[0m",
      "\u001b[1;31mValueError\u001b[0m: invalid literal for int() with base 10: ' - 32 '"
     ]
    }
   ],
   "source": [
    "int(' - 32 ')"
   ]
  },
  {
   "cell_type": "markdown",
   "metadata": {},
   "source": [
    "If base is given, convert the string to a decimal number"
   ]
  },
  {
   "cell_type": "code",
   "execution_count": 22,
   "metadata": {},
   "outputs": [
    {
     "name": "stdout",
     "output_type": "stream",
     "text": [
      "10\n",
      "11\n",
      "12\n",
      "13\n",
      "14\n",
      "15\n"
     ]
    }
   ],
   "source": [
    "num_list = ['a','b','c','d','e','f']\n",
    "\n",
    "for num in num_list:\n",
    "    print(int('0'+num,base = 16))"
   ]
  },
  {
   "cell_type": "markdown",
   "metadata": {},
   "source": [
    "# 33. isinstance(object, classinfo)\n",
    "\n",
    "Return true if the object argument is an instance of the classinfo argument, or of a (direct, indirect or virtual) subclass thereof. If object is not an object of the given type, the function always returns false. If classinfo is a tuple of type objects (or recursively, other such tuples), return true if object is an instance of any of the types. If classinfo is not a type or tuple of types and such tuples, a TypeError exception is raised.\n",
    "\n",
    "Directly speaking, this function justifies whether the object is an instance of a classinfo"
   ]
  },
  {
   "cell_type": "code",
   "execution_count": 23,
   "metadata": {},
   "outputs": [
    {
     "data": {
      "text/plain": [
       "False"
      ]
     },
     "execution_count": 23,
     "metadata": {},
     "output_type": "execute_result"
    }
   ],
   "source": [
    "isinstance(1,float)"
   ]
  },
  {
   "cell_type": "code",
   "execution_count": 1,
   "metadata": {},
   "outputs": [
    {
     "name": "stdout",
     "output_type": "stream",
     "text": [
      "True\n",
      "False\n",
      "True\n"
     ]
    }
   ],
   "source": [
    "import random\n",
    "\n",
    "class Student:\n",
    "    def __init__(self,name,age):\n",
    "        self.name = name\n",
    "        self.age = age\n",
    "    def __index__(self):\n",
    "        return self.age\n",
    "    \n",
    "class sannianerban(Student):\n",
    "    def __init__(self,name,age):\n",
    "        self.name = name\n",
    "        self.age = age\n",
    "        \n",
    "    def grades(self,grades):\n",
    "        self.grades = random.randint(0,100)\n",
    "        return self.grades\n",
    "\n",
    "s = Student('Bright',24)\n",
    "b = sannianerban('Jack',23)\n",
    "\n",
    "print(isinstance(s,Student))\n",
    "print(isinstance(s,sannianerban))\n",
    "print(isinstance(b,Student))"
   ]
  },
  {
   "cell_type": "markdown",
   "metadata": {},
   "source": [
    "If the object is also the type of the object, it always returns false"
   ]
  },
  {
   "cell_type": "code",
   "execution_count": 43,
   "metadata": {},
   "outputs": [
    {
     "data": {
      "text/plain": [
       "False"
      ]
     },
     "execution_count": 43,
     "metadata": {},
     "output_type": "execute_result"
    }
   ],
   "source": [
    "isinstance(int, int)"
   ]
  },
  {
   "cell_type": "markdown",
   "metadata": {},
   "source": [
    "If classinfo is a tuple consisting of multiple types and if object belongs to anyone of them, it returns True"
   ]
  },
  {
   "cell_type": "code",
   "execution_count": 44,
   "metadata": {},
   "outputs": [
    {
     "data": {
      "text/plain": [
       "True"
      ]
     },
     "execution_count": 44,
     "metadata": {},
     "output_type": "execute_result"
    }
   ],
   "source": [
    "isinstance(5,(int,str))"
   ]
  },
  {
   "cell_type": "code",
   "execution_count": 46,
   "metadata": {},
   "outputs": [
    {
     "ename": "TypeError",
     "evalue": "isinstance() arg 2 must be a type or tuple of types",
     "output_type": "error",
     "traceback": [
      "\u001b[1;31m---------------------------------------------------------------------------\u001b[0m",
      "\u001b[1;31mTypeError\u001b[0m                                 Traceback (most recent call last)",
      "\u001b[1;32m<ipython-input-46-37a6227644b2>\u001b[0m in \u001b[0;36m<module>\u001b[1;34m()\u001b[0m\n\u001b[1;32m----> 1\u001b[1;33m \u001b[0misinstance\u001b[0m\u001b[1;33m(\u001b[0m\u001b[0ms\u001b[0m\u001b[1;33m,\u001b[0m\u001b[1;33m[\u001b[0m\u001b[0mint\u001b[0m\u001b[1;33m,\u001b[0m\u001b[0mstr\u001b[0m\u001b[1;33m]\u001b[0m\u001b[1;33m)\u001b[0m \u001b[1;31m# the classinfo must be a tuple\u001b[0m\u001b[1;33m\u001b[0m\u001b[0m\n\u001b[0m",
      "\u001b[1;31mTypeError\u001b[0m: isinstance() arg 2 must be a type or tuple of types"
     ]
    }
   ],
   "source": [
    "isinstance(s,[int,str]) # the classinfo must be a tuple"
   ]
  },
  {
   "cell_type": "markdown",
   "metadata": {
    "collapsed": true
   },
   "source": [
    "# 34. issubclass(class, classinfo)\n",
    "\n",
    "Return true if class is a subclass (direct, indirect or virtual) of classinfo. A class is considered a subclass of itself. classinfo may be a **tuple** of class objects, in which case every entry in classinfo will be checked. In any other case, a TypeError exception is raised."
   ]
  },
  {
   "cell_type": "code",
   "execution_count": 4,
   "metadata": {},
   "outputs": [
    {
     "data": {
      "text/plain": [
       "True"
      ]
     },
     "execution_count": 4,
     "metadata": {},
     "output_type": "execute_result"
    }
   ],
   "source": [
    "issubclass(bool, int)"
   ]
  },
  {
   "cell_type": "code",
   "execution_count": 9,
   "metadata": {},
   "outputs": [
    {
     "data": {
      "text/plain": [
       "False"
      ]
     },
     "execution_count": 9,
     "metadata": {},
     "output_type": "execute_result"
    }
   ],
   "source": [
    "issubclass(bool, (str,float))"
   ]
  },
  {
   "cell_type": "code",
   "execution_count": 10,
   "metadata": {},
   "outputs": [
    {
     "data": {
      "text/plain": [
       "True"
      ]
     },
     "execution_count": 10,
     "metadata": {},
     "output_type": "execute_result"
    }
   ],
   "source": [
    "import random\n",
    "\n",
    "class Student:\n",
    "    def __init__(self,name,age):\n",
    "        self.name = name\n",
    "        self.age = age\n",
    "    def __index__(self):\n",
    "        return self.age\n",
    "    \n",
    "class sannianerban(Student):\n",
    "    def __init__(self,name,age):\n",
    "        self.name = name\n",
    "        self.age = age\n",
    "        \n",
    "    def grades(self,grades):\n",
    "        self.grades = random.randint(0,100)\n",
    "        return self.grades\n",
    "    \n",
    "issubclass(sannianerban, Student)"
   ]
  },
  {
   "cell_type": "markdown",
   "metadata": {},
   "source": [
    "# 35. iter(object[, sentinel])"
   ]
  },
  {
   "cell_type": "markdown",
   "metadata": {},
   "source": [
    "iter(object[, sentinel])\n",
    "\n",
    "Return an iterator object. The first argument is interpreted very differently depending on the presence of the second argument. Without a second argument, object must be a collection object which supports the iteration protocol (the \\__iter\\__() method), or it must support the sequence protocol (the \\__getitem\\__() method with integer arguments starting at 0). If it does not support either of those protocols, TypeError is raised. If the second argument, sentinel, is given, then object must be a callable object. The iterator created in this case will call object with no arguments for each call to its \\__next\\__() method; if the value returned is equal to sentinel, StopIteration will be raised, otherwise the value will be returned.\n",
    "\n",
    "One useful application of the second form of iter() is to read lines of a file until a certain line is reached. The following example reads a file until the readline() method returns an empty string:\n",
    "\n",
    "```Python\n",
    "with open('mydata.txt') as fp:\n",
    "    for line in iter(fp.readline, ''):\n",
    "        process_line(line)\n",
    "```"
   ]
  },
  {
   "cell_type": "markdown",
   "metadata": {},
   "source": [
    "This function creates an iterator.\n",
    "\n",
    "When the second argument is not given, you can use any iterables such as list, dictionary, strings, and tuple as the first argument."
   ]
  },
  {
   "cell_type": "code",
   "execution_count": 12,
   "metadata": {
    "collapsed": true
   },
   "outputs": [],
   "source": [
    "a = iter({'A':1, 'B':2}) # dictionary"
   ]
  },
  {
   "cell_type": "markdown",
   "metadata": {},
   "source": [
    "Then we could use the next method to get the key of that dictionary"
   ]
  },
  {
   "cell_type": "code",
   "execution_count": 13,
   "metadata": {},
   "outputs": [
    {
     "data": {
      "text/plain": [
       "'A'"
      ]
     },
     "execution_count": 13,
     "metadata": {},
     "output_type": "execute_result"
    }
   ],
   "source": [
    "next(a)"
   ]
  },
  {
   "cell_type": "code",
   "execution_count": 14,
   "metadata": {},
   "outputs": [
    {
     "data": {
      "text/plain": [
       "'B'"
      ]
     },
     "execution_count": 14,
     "metadata": {},
     "output_type": "execute_result"
    }
   ],
   "source": [
    "next(a)"
   ]
  },
  {
   "cell_type": "code",
   "execution_count": 16,
   "metadata": {},
   "outputs": [
    {
     "ename": "StopIteration",
     "evalue": "",
     "output_type": "error",
     "traceback": [
      "\u001b[1;31m---------------------------------------------------------------------------\u001b[0m",
      "\u001b[1;31mStopIteration\u001b[0m                             Traceback (most recent call last)",
      "\u001b[1;32m<ipython-input-16-b81b826171b3>\u001b[0m in \u001b[0;36m<module>\u001b[1;34m()\u001b[0m\n\u001b[1;32m----> 1\u001b[1;33m \u001b[0mnext\u001b[0m\u001b[1;33m(\u001b[0m\u001b[0ma\u001b[0m\u001b[1;33m)\u001b[0m \u001b[1;31m# don't run out of range\u001b[0m\u001b[1;33m\u001b[0m\u001b[0m\n\u001b[0m",
      "\u001b[1;31mStopIteration\u001b[0m: "
     ]
    }
   ],
   "source": [
    "next(a) # don't run out of range"
   ]
  },
  {
   "cell_type": "code",
   "execution_count": 18,
   "metadata": {},
   "outputs": [
    {
     "data": {
      "text/plain": [
       "'a'"
      ]
     },
     "execution_count": 18,
     "metadata": {},
     "output_type": "execute_result"
    }
   ],
   "source": [
    "b = iter('abcd')\n",
    "next(b)"
   ]
  },
  {
   "cell_type": "code",
   "execution_count": 19,
   "metadata": {},
   "outputs": [
    {
     "data": {
      "text/plain": [
       "'b'"
      ]
     },
     "execution_count": 19,
     "metadata": {},
     "output_type": "execute_result"
    }
   ],
   "source": [
    "next(b)"
   ]
  },
  {
   "cell_type": "code",
   "execution_count": 20,
   "metadata": {},
   "outputs": [
    {
     "data": {
      "text/plain": [
       "'c'"
      ]
     },
     "execution_count": 20,
     "metadata": {},
     "output_type": "execute_result"
    }
   ],
   "source": [
    "next(b)"
   ]
  },
  {
   "cell_type": "code",
   "execution_count": 21,
   "metadata": {},
   "outputs": [
    {
     "data": {
      "text/plain": [
       "'d'"
      ]
     },
     "execution_count": 21,
     "metadata": {},
     "output_type": "execute_result"
    }
   ],
   "source": [
    "next(b)"
   ]
  },
  {
   "cell_type": "code",
   "execution_count": 22,
   "metadata": {},
   "outputs": [
    {
     "ename": "StopIteration",
     "evalue": "",
     "output_type": "error",
     "traceback": [
      "\u001b[1;31m---------------------------------------------------------------------------\u001b[0m",
      "\u001b[1;31mStopIteration\u001b[0m                             Traceback (most recent call last)",
      "\u001b[1;32m<ipython-input-22-641a931447e8>\u001b[0m in \u001b[0;36m<module>\u001b[1;34m()\u001b[0m\n\u001b[1;32m----> 1\u001b[1;33m \u001b[0mnext\u001b[0m\u001b[1;33m(\u001b[0m\u001b[0mb\u001b[0m\u001b[1;33m)\u001b[0m\u001b[1;33m\u001b[0m\u001b[0m\n\u001b[0m",
      "\u001b[1;31mStopIteration\u001b[0m: "
     ]
    }
   ],
   "source": [
    "next(b)"
   ]
  },
  {
   "cell_type": "code",
   "execution_count": 23,
   "metadata": {},
   "outputs": [
    {
     "data": {
      "text/plain": [
       "1"
      ]
     },
     "execution_count": 23,
     "metadata": {},
     "output_type": "execute_result"
    }
   ],
   "source": [
    "c = iter((1,2,3))\n",
    "next(c)"
   ]
  },
  {
   "cell_type": "code",
   "execution_count": 24,
   "metadata": {},
   "outputs": [
    {
     "data": {
      "text/plain": [
       "2"
      ]
     },
     "execution_count": 24,
     "metadata": {},
     "output_type": "execute_result"
    }
   ],
   "source": [
    "next(c)"
   ]
  },
  {
   "cell_type": "code",
   "execution_count": 25,
   "metadata": {},
   "outputs": [
    {
     "data": {
      "text/plain": [
       "3"
      ]
     },
     "execution_count": 25,
     "metadata": {},
     "output_type": "execute_result"
    }
   ],
   "source": [
    "next(c)"
   ]
  },
  {
   "cell_type": "code",
   "execution_count": 26,
   "metadata": {},
   "outputs": [
    {
     "ename": "StopIteration",
     "evalue": "",
     "output_type": "error",
     "traceback": [
      "\u001b[1;31m---------------------------------------------------------------------------\u001b[0m",
      "\u001b[1;31mStopIteration\u001b[0m                             Traceback (most recent call last)",
      "\u001b[1;32m<ipython-input-26-73b012f9653f>\u001b[0m in \u001b[0;36m<module>\u001b[1;34m()\u001b[0m\n\u001b[1;32m----> 1\u001b[1;33m \u001b[0mnext\u001b[0m\u001b[1;33m(\u001b[0m\u001b[0mc\u001b[0m\u001b[1;33m)\u001b[0m\u001b[1;33m\u001b[0m\u001b[0m\n\u001b[0m",
      "\u001b[1;31mStopIteration\u001b[0m: "
     ]
    }
   ],
   "source": [
    "next(c)"
   ]
  },
  {
   "cell_type": "code",
   "execution_count": 27,
   "metadata": {},
   "outputs": [
    {
     "data": {
      "text/plain": [
       "1"
      ]
     },
     "execution_count": 27,
     "metadata": {},
     "output_type": "execute_result"
    }
   ],
   "source": [
    "d = iter([1,2,3])\n",
    "next(d)"
   ]
  },
  {
   "cell_type": "code",
   "execution_count": 28,
   "metadata": {},
   "outputs": [
    {
     "data": {
      "text/plain": [
       "2"
      ]
     },
     "execution_count": 28,
     "metadata": {},
     "output_type": "execute_result"
    }
   ],
   "source": [
    "next(d)"
   ]
  },
  {
   "cell_type": "markdown",
   "metadata": {},
   "source": [
    "When the second argument is given, then the first argument must be a **callable object**."
   ]
  },
  {
   "cell_type": "code",
   "execution_count": 48,
   "metadata": {},
   "outputs": [
    {
     "data": {
      "text/plain": [
       "1"
      ]
     },
     "execution_count": 48,
     "metadata": {},
     "output_type": "execute_result"
    }
   ],
   "source": [
    "class iterTest(object):\n",
    "    def __init__(self):\n",
    "        self.start = 1\n",
    "        self.end = 5\n",
    "        \n",
    "    def test(self):\n",
    "        current = self.start\n",
    "        if current < self.end:\n",
    "            self.start += 1\n",
    "        else:\n",
    "            raise StopIteration\n",
    "        return current\n",
    "    \n",
    "A = iterTest()\n",
    "b = iter(A.test, 3)\n",
    "next(b)"
   ]
  },
  {
   "cell_type": "code",
   "execution_count": 49,
   "metadata": {},
   "outputs": [
    {
     "data": {
      "text/plain": [
       "2"
      ]
     },
     "execution_count": 49,
     "metadata": {},
     "output_type": "execute_result"
    }
   ],
   "source": [
    "next(b)"
   ]
  },
  {
   "cell_type": "code",
   "execution_count": 50,
   "metadata": {},
   "outputs": [
    {
     "ename": "StopIteration",
     "evalue": "",
     "output_type": "error",
     "traceback": [
      "\u001b[1;31m---------------------------------------------------------------------------\u001b[0m",
      "\u001b[1;31mStopIteration\u001b[0m                             Traceback (most recent call last)",
      "\u001b[1;32m<ipython-input-50-641a931447e8>\u001b[0m in \u001b[0;36m<module>\u001b[1;34m()\u001b[0m\n\u001b[1;32m----> 1\u001b[1;33m \u001b[0mnext\u001b[0m\u001b[1;33m(\u001b[0m\u001b[0mb\u001b[0m\u001b[1;33m)\u001b[0m\u001b[1;33m\u001b[0m\u001b[0m\n\u001b[0m",
      "\u001b[1;31mStopIteration\u001b[0m: "
     ]
    }
   ],
   "source": [
    "next(b)"
   ]
  },
  {
   "cell_type": "markdown",
   "metadata": {},
   "source": [
    "Iter function is very useful when reading the text file. If we want to read a txt file containing the following cotents:\n",
    "\n",
    "- You are so great!\n",
    "- Marvelous\n",
    "- Perfect\n",
    "- I believe you!\n",
    "\n",
    "You can use the following codes:"
   ]
  },
  {
   "cell_type": "code",
   "execution_count": 3,
   "metadata": {},
   "outputs": [
    {
     "data": {
      "text/plain": [
       "'Marvelous'"
      ]
     },
     "execution_count": 3,
     "metadata": {},
     "output_type": "execute_result"
    }
   ],
   "source": [
    "t = []\n",
    "with open('C:/Users/Haoliang Chang/Desktop/ds.txt') as file:\n",
    "    for line in iter(file.readline, ''):\n",
    "        rs = line.replace('\\n','')\n",
    "        t.append(rs)\n",
    "        \n",
    "t[1]"
   ]
  },
  {
   "cell_type": "code",
   "execution_count": null,
   "metadata": {
    "collapsed": true
   },
   "outputs": [],
   "source": []
  }
 ],
 "metadata": {
  "kernelspec": {
   "display_name": "Python 3",
   "language": "python",
   "name": "python3"
  },
  "language_info": {
   "codemirror_mode": {
    "name": "ipython",
    "version": 3
   },
   "file_extension": ".py",
   "mimetype": "text/x-python",
   "name": "python",
   "nbconvert_exporter": "python",
   "pygments_lexer": "ipython3",
   "version": "3.5.2"
  }
 },
 "nbformat": 4,
 "nbformat_minor": 2
}
